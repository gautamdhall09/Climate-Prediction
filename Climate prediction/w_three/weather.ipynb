{
 "cells": [
  {
   "cell_type": "code",
   "execution_count": 0,
   "metadata": {
    "colab": {
     "base_uri": "https://localhost:8080/",
     "height": 62
    },
    "colab_type": "code",
    "executionInfo": {
     "elapsed": 3712,
     "status": "ok",
     "timestamp": 1574107456305,
     "user": {
      "displayName": "Yash Chandra verma",
      "photoUrl": "https://lh3.googleusercontent.com/a-/AAuE7mBBdKmttPchBCWwxFQ2pFyVxIOCfNm0nWPrBjtVGw=s64",
      "userId": "01320690721796493910"
     },
     "user_tz": -330
    },
    "id": "jIz0X-nxf6V4",
    "outputId": "5165d1b8-38a0-4996-ed5a-67e48f80835b"
   },
   "outputs": [
    {
     "data": {
      "text/html": [
       "<p style=\"color: red;\">\n",
       "The default version of TensorFlow in Colab will soon switch to TensorFlow 2.x.<br>\n",
       "We recommend you <a href=\"https://www.tensorflow.org/guide/migrate\" target=\"_blank\">upgrade</a> now \n",
       "or ensure your notebook will continue to use TensorFlow 1.x via the <code>%tensorflow_version 1.x</code> magic:\n",
       "<a href=\"https://colab.research.google.com/notebooks/tensorflow_version.ipynb\" target=\"_blank\">more info</a>.</p>\n"
      ],
      "text/plain": [
       "<IPython.core.display.HTML object>"
      ]
     },
     "metadata": {
      "tags": []
     },
     "output_type": "display_data"
    }
   ],
   "source": [
    "%matplotlib inline\n",
    "import matplotlib.pyplot as plt\n",
    "import tensorflow as tf\n",
    "import numpy as np\n",
    "import pandas as pd\n",
    "import os\n",
    "from sklearn.preprocessing import MinMaxScaler"
   ]
  },
  {
   "cell_type": "code",
   "execution_count": 0,
   "metadata": {
    "colab": {},
    "colab_type": "code",
    "id": "KN-i_mUXf6WA"
   },
   "outputs": [],
   "source": [
    "# from tf.keras.models import Sequential  # This does not work!\n",
    "from tensorflow.python.keras.models import Sequential\n",
    "from tensorflow.python.keras.layers import Input, Dense, GRU, Embedding, LSTM\n",
    "from tensorflow.python.keras.optimizers import RMSprop\n",
    "from tensorflow.python.keras.callbacks import EarlyStopping, ModelCheckpoint, TensorBoard, ReduceLROnPlateau"
   ]
  },
  {
   "cell_type": "code",
   "execution_count": 0,
   "metadata": {
    "colab": {},
    "colab_type": "code",
    "id": "SjtXdhGdR7OY"
   },
   "outputs": [],
   "source": [
    "import sys\n",
    "import os\n",
    "import urllib.request\n",
    "import tarfile\n",
    "import zipfile\n",
    "\n",
    "########################################################################\n",
    "\n",
    "def _print_download_progress(count, block_size, total_size):\n",
    "\n",
    "    # Percentage completion.\n",
    "    pct_complete = float(count * block_size) / total_size\n",
    "\n",
    "    # Limit it because rounding errors may cause it to exceed 100%.\n",
    "    pct_complete = min(1.0, pct_complete)\n",
    "\n",
    "    # Status-message. Note the \\r which means the line should overwrite itself.\n",
    "    msg = \"\\r- Download progress: {0:.1%}\".format(pct_complete)\n",
    "\n",
    "    # Print it.\n",
    "    sys.stdout.write(msg)\n",
    "    sys.stdout.flush()\n",
    "\n",
    "def download(base_url, filename, download_dir):\n",
    "\n",
    "    # Path for local file.\n",
    "    save_path = os.path.join(download_dir, filename)\n",
    "\n",
    "    # Check if the file already exists, otherwise we need to download it now.\n",
    "    if not os.path.exists(save_path):\n",
    "        # Check if the download directory exists, otherwise create it.\n",
    "        if not os.path.exists(download_dir):\n",
    "            os.makedirs(download_dir)\n",
    "\n",
    "        print(\"Downloading\", filename, \"...\")\n",
    "\n",
    "        # Download the file from the internet.\n",
    "        url = base_url + filename\n",
    "        file_path, _ = urllib.request.urlretrieve(url=url,\n",
    "                                                  filename=save_path,\n",
    "                                                  reporthook=_print_download_progress)\n",
    "\n",
    "        print(\" Done!\")\n",
    "\n",
    "\n",
    "def maybe_download_and_extract1(url, download_dir):\n",
    "\n",
    "    filename = url.split('/')[-1]\n",
    "    file_path = os.path.join(download_dir, filename)\n",
    "    \n",
    "    if not os.path.exists(file_path):\n",
    "        # Check if the download directory exists, otherwise create it.\n",
    "        if not os.path.exists(download_dir):\n",
    "            os.makedirs(download_dir)\n",
    "\n",
    "        # Download the file from the internet.\n",
    "        file_path, _ = urllib.request.urlretrieve(url=url,\n",
    "                                                  filename=file_path,\n",
    "                                                  reporthook=_print_download_progress)\n",
    "\n",
    "        print()\n",
    "        print(\"Download finished. Extracting files.\")\n",
    "\n",
    "        if file_path.endswith(\".zip\"):\n",
    "            # Unpack the zip-file.\n",
    "            zipfile.ZipFile(file=file_path, mode=\"r\").extractall(download_dir)\n",
    "        elif file_path.endswith((\".tar.gz\", \".tgz\")):\n",
    "            # Unpack the tar-ball.\n",
    "            tarfile.open(name=file_path, mode=\"r:gz\").extractall(download_dir)\n",
    "\n",
    "        print(\"Done.\")\n",
    "    else:\n",
    "        print(\"Data has apparently already been downloaded and unpacked.\")\n",
    "\n",
    "\n",
    "########################################################################"
   ]
  },
  {
   "cell_type": "code",
   "execution_count": 0,
   "metadata": {
    "colab": {},
    "colab_type": "code",
    "id": "mAe2zkMpSAYu"
   },
   "outputs": [],
   "source": [
    "import pandas as pd\n",
    "import os\n",
    "\n",
    "########################################################################\n",
    "\n",
    "data_dir = \"data/weather-denmark/\"\n",
    "\n",
    "\n",
    "# Full path for the pickled data-file. (Original data).\n",
    "def path_original_data_pickle():\n",
    "    return os.path.join(data_dir, \"weather-denmark.pkl\")\n",
    "\n",
    "# Full path for the comma-separated text-file. (Original data).\n",
    "def path_original_data_csv():\n",
    "    return os.path.join(data_dir, \"weather-denmark.csv\")\n",
    "\n",
    "# Full path for the resampled data as a pickled file.\n",
    "def path_resampled_data_pickle():\n",
    "    return os.path.join(data_dir, \"weather-denmark-resampled.pkl\")\n",
    "\n",
    "# URL for the data-set on the internet.\n",
    "data_url = \"https://github.com/ycv005/Weather_forecast/raw/master/w_three/weather-denmark.tar.gz\"\n",
    "\n",
    "# List of the cities in this data-set. These are cities in Denmark.\n",
    "cities = ['Aalborg', 'Aarhus', 'Esbjerg', 'Odense', 'Roskilde']\n",
    "\n",
    "########################################################################\n",
    "\n",
    "def _date_string(x):\n",
    "    \"\"\"Convert two integers to a string for the date and time.\"\"\"\n",
    "\n",
    "    date = x[0]  # Date. Example: 19801231\n",
    "    time = x[1]  # Time. Example: 1230\n",
    "\n",
    "    return \"{0}{1:04d}\".format(date, time)\n",
    "\n",
    "\n",
    "def _usaf_to_city(usaf):\n",
    "\n",
    "    table = \\\n",
    "        {\n",
    "            60300: 'Aalborg',\n",
    "            60700: 'Aarhus',\n",
    "            60800: 'Esbjerg',\n",
    "            61200: 'Odense',\n",
    "            61700: 'Roskilde'\n",
    "        }\n",
    "\n",
    "    return table[usaf]\n",
    "\n",
    "def _convert_raw_data(path):\n",
    "\n",
    "    na_values = ['999', '999.0', '999.9', '9999.9']\n",
    "\n",
    "    df_raw = pd.read_csv(path, sep=',', header=1,\n",
    "                         index_col=False, na_values=na_values)\n",
    "    \n",
    "    df = pd.DataFrame()\n",
    "\n",
    "    # Get the city-name / weather-station name from the USAF code.\n",
    "    df['City'] = df_raw['USAF  '].apply(_usaf_to_city)\n",
    "\n",
    "    # Convert the integer date-time to a proper date-time object.\n",
    "    datestr = df_raw[['Date    ', 'HrMn']].apply(_date_string, axis=1)\n",
    "    df['DateTime'] = pd.to_datetime(datestr, format='%Y%m%d%H%M')\n",
    "\n",
    "    # Get the data we are interested in.\n",
    "    df['Temp'] = df_raw['Temp  ']\n",
    "    df['Pressure'] = df_raw['Slp   ']\n",
    "    df['WindSpeed'] = df_raw['Spd  ']\n",
    "    df['WindDir'] = df_raw['Dir']\n",
    "\n",
    "    # Set the city-name and date-time as the index.\n",
    "    df.set_index(['City', 'DateTime'], inplace=True)\n",
    "\n",
    "    # Save the new data-frame as a pickle for fast reloading.\n",
    "    df.to_pickle(path_original_data_pickle())\n",
    "\n",
    "    # Save the new data-frame as a CSV-file for general readability.\n",
    "    df.to_csv(path_original_data_csv())\n",
    "\n",
    "    return df\n",
    "\n",
    "\n",
    "def _resample(df):\n",
    "\n",
    "    # Remove all empty rows and columns.\n",
    "    df_res = df.dropna(axis=[0, 1], how='all')\n",
    "\n",
    "    # Upsample so the time-series has data for every minute.\n",
    "    df_res = df_res.resample('1T')\n",
    "\n",
    "    # Fill in missing values.\n",
    "    df_res = df_res.interpolate(method='time')\n",
    "\n",
    "    # Downsample so the time-series has data for every hour.\n",
    "    df_res = df_res.resample('60T')\n",
    "\n",
    "    # Finalize the resampling. (Is this really necessary?)\n",
    "    df_res = df_res.interpolate()\n",
    "\n",
    "    # Remove all empty rows.\n",
    "    df_res = df_res.dropna(how='all')\n",
    "\n",
    "    return df_res\n",
    "\n",
    "\n",
    "########################################################################\n",
    "\n",
    "def maybe_download_and_extract():\n",
    "    maybe_download_and_extract1(url=data_url, download_dir=data_dir)\n",
    "\n",
    "\n",
    "def load_original_data():\n",
    "    return pd.read_pickle(path_original_data_pickle())\n",
    "\n",
    "\n",
    "def load_resampled_data():\n",
    "\n",
    "    # Path for the cache-file with the resampled data.\n",
    "    path = path_resampled_data_pickle()\n",
    "\n",
    "    # If the cache-file exists ...\n",
    "    if os.path.exists(path):\n",
    "        # Reload the cache-file.\n",
    "        df = pd.read_pickle(path)\n",
    "    else:\n",
    "        # Otherwise resample the original data and save it in a cache-file.\n",
    "\n",
    "        # Load the original data.\n",
    "        df_org = load_original_data()\n",
    "\n",
    "        # Split the original data into separate data-frames for each city.\n",
    "        df_cities = [df_org.xs(city) for city in cities]\n",
    "\n",
    "        # Resample the data for each city.\n",
    "        df_resampled = [_resample(df_city) for df_city in df_cities]\n",
    "\n",
    "        # Join the resampled data into a single data-frame.\n",
    "        df = pd.concat(df_resampled, keys=cities,\n",
    "                       axis=1, join='inner')\n",
    "\n",
    "        # Save the resampled data in a cache-file for quick reloading.\n",
    "        df.to_pickle(path)\n",
    "\n",
    "    return df\n",
    "\n",
    "\n",
    "########################################################################"
   ]
  },
  {
   "cell_type": "code",
   "execution_count": 0,
   "metadata": {
    "colab": {
     "base_uri": "https://localhost:8080/",
     "height": 34
    },
    "colab_type": "code",
    "executionInfo": {
     "elapsed": 11966,
     "status": "ok",
     "timestamp": 1574107464605,
     "user": {
      "displayName": "Yash Chandra verma",
      "photoUrl": "https://lh3.googleusercontent.com/a-/AAuE7mBBdKmttPchBCWwxFQ2pFyVxIOCfNm0nWPrBjtVGw=s64",
      "userId": "01320690721796493910"
     },
     "user_tz": -330
    },
    "id": "MVGIXTb3Q6tZ",
    "outputId": "f9e8462b-c840-4d36-af2c-44caa6fa17ca"
   },
   "outputs": [
    {
     "name": "stdout",
     "output_type": "stream",
     "text": [
      "\u001b[0m\u001b[01;34msample_data\u001b[0m/\n"
     ]
    }
   ],
   "source": [
    "ls"
   ]
  },
  {
   "cell_type": "code",
   "execution_count": 0,
   "metadata": {
    "colab": {
     "base_uri": "https://localhost:8080/",
     "height": 67
    },
    "colab_type": "code",
    "executionInfo": {
     "elapsed": 26302,
     "status": "ok",
     "timestamp": 1574107478960,
     "user": {
      "displayName": "Yash Chandra verma",
      "photoUrl": "https://lh3.googleusercontent.com/a-/AAuE7mBBdKmttPchBCWwxFQ2pFyVxIOCfNm0nWPrBjtVGw=s64",
      "userId": "01320690721796493910"
     },
     "user_tz": -330
    },
    "id": "N83O34ydf6WT",
    "outputId": "87767cb2-76c0-4282-f667-935877ee258d"
   },
   "outputs": [
    {
     "name": "stdout",
     "output_type": "stream",
     "text": [
      "- Download progress: 100.0%\n",
      "Download finished. Extracting files.\n",
      "Done.\n"
     ]
    }
   ],
   "source": [
    "maybe_download_and_extract()"
   ]
  },
  {
   "cell_type": "code",
   "execution_count": 0,
   "metadata": {
    "colab": {
     "base_uri": "https://localhost:8080/",
     "height": 34
    },
    "colab_type": "code",
    "executionInfo": {
     "elapsed": 26278,
     "status": "ok",
     "timestamp": 1574107478962,
     "user": {
      "displayName": "Yash Chandra verma",
      "photoUrl": "https://lh3.googleusercontent.com/a-/AAuE7mBBdKmttPchBCWwxFQ2pFyVxIOCfNm0nWPrBjtVGw=s64",
      "userId": "01320690721796493910"
     },
     "user_tz": -330
    },
    "id": "5v05zzlVf6WX",
    "outputId": "af52c794-1b09-46e1-cfaf-368c0a38dab3"
   },
   "outputs": [
    {
     "data": {
      "text/plain": [
       "['Aalborg', 'Aarhus', 'Esbjerg', 'Odense', 'Roskilde']"
      ]
     },
     "execution_count": 8,
     "metadata": {
      "tags": []
     },
     "output_type": "execute_result"
    }
   ],
   "source": [
    "cities"
   ]
  },
  {
   "cell_type": "code",
   "execution_count": 0,
   "metadata": {
    "colab": {
     "base_uri": "https://localhost:8080/",
     "height": 67
    },
    "colab_type": "code",
    "executionInfo": {
     "elapsed": 129040,
     "status": "ok",
     "timestamp": 1574107581750,
     "user": {
      "displayName": "Yash Chandra verma",
      "photoUrl": "https://lh3.googleusercontent.com/a-/AAuE7mBBdKmttPchBCWwxFQ2pFyVxIOCfNm0nWPrBjtVGw=s64",
      "userId": "01320690721796493910"
     },
     "user_tz": -330
    },
    "id": "RWmzMPC0f6Wc",
    "outputId": "03fcdc6f-71d3-4613-e71d-9182e44d3220"
   },
   "outputs": [
    {
     "name": "stderr",
     "output_type": "stream",
     "text": [
      "/usr/local/lib/python3.6/dist-packages/ipykernel_launcher.py:87: FutureWarning: supplying multiple axes to axis is deprecated and will be removed in a future version.\n"
     ]
    },
    {
     "name": "stdout",
     "output_type": "stream",
     "text": [
      "CPU times: user 1min 37s, sys: 7.02 s, total: 1min 44s\n",
      "Wall time: 1min 44s\n"
     ]
    }
   ],
   "source": [
    "%%time\n",
    "df = load_resampled_data()"
   ]
  },
  {
   "cell_type": "code",
   "execution_count": 0,
   "metadata": {
    "colab": {
     "base_uri": "https://localhost:8080/",
     "height": 442
    },
    "colab_type": "code",
    "executionInfo": {
     "elapsed": 129018,
     "status": "ok",
     "timestamp": 1574107581752,
     "user": {
      "displayName": "Yash Chandra verma",
      "photoUrl": "https://lh3.googleusercontent.com/a-/AAuE7mBBdKmttPchBCWwxFQ2pFyVxIOCfNm0nWPrBjtVGw=s64",
      "userId": "01320690721796493910"
     },
     "user_tz": -330
    },
    "id": "aAAGtq7-f6Wg",
    "outputId": "cd981178-cc79-47f3-a495-23224b109603"
   },
   "outputs": [
    {
     "data": {
      "text/html": [
       "<div>\n",
       "<style scoped>\n",
       "    .dataframe tbody tr th:only-of-type {\n",
       "        vertical-align: middle;\n",
       "    }\n",
       "\n",
       "    .dataframe tbody tr th {\n",
       "        vertical-align: top;\n",
       "    }\n",
       "\n",
       "    .dataframe thead tr th {\n",
       "        text-align: left;\n",
       "    }\n",
       "\n",
       "    .dataframe thead tr:last-of-type th {\n",
       "        text-align: right;\n",
       "    }\n",
       "</style>\n",
       "<table border=\"1\" class=\"dataframe\">\n",
       "  <thead>\n",
       "    <tr>\n",
       "      <th></th>\n",
       "      <th colspan=\"4\" halign=\"left\">Aalborg</th>\n",
       "      <th colspan=\"4\" halign=\"left\">Aarhus</th>\n",
       "      <th colspan=\"4\" halign=\"left\">Esbjerg</th>\n",
       "      <th colspan=\"4\" halign=\"left\">Odense</th>\n",
       "      <th colspan=\"4\" halign=\"left\">Roskilde</th>\n",
       "    </tr>\n",
       "    <tr>\n",
       "      <th></th>\n",
       "      <th>Temp</th>\n",
       "      <th>Pressure</th>\n",
       "      <th>WindSpeed</th>\n",
       "      <th>WindDir</th>\n",
       "      <th>Temp</th>\n",
       "      <th>Pressure</th>\n",
       "      <th>WindSpeed</th>\n",
       "      <th>WindDir</th>\n",
       "      <th>Temp</th>\n",
       "      <th>Pressure</th>\n",
       "      <th>WindSpeed</th>\n",
       "      <th>WindDir</th>\n",
       "      <th>Temp</th>\n",
       "      <th>Pressure</th>\n",
       "      <th>WindSpeed</th>\n",
       "      <th>WindDir</th>\n",
       "      <th>Temp</th>\n",
       "      <th>Pressure</th>\n",
       "      <th>WindSpeed</th>\n",
       "      <th>WindDir</th>\n",
       "    </tr>\n",
       "    <tr>\n",
       "      <th>DateTime</th>\n",
       "      <th></th>\n",
       "      <th></th>\n",
       "      <th></th>\n",
       "      <th></th>\n",
       "      <th></th>\n",
       "      <th></th>\n",
       "      <th></th>\n",
       "      <th></th>\n",
       "      <th></th>\n",
       "      <th></th>\n",
       "      <th></th>\n",
       "      <th></th>\n",
       "      <th></th>\n",
       "      <th></th>\n",
       "      <th></th>\n",
       "      <th></th>\n",
       "      <th></th>\n",
       "      <th></th>\n",
       "      <th></th>\n",
       "      <th></th>\n",
       "    </tr>\n",
       "  </thead>\n",
       "  <tbody>\n",
       "    <tr>\n",
       "      <th>1980-03-01 11:00:00</th>\n",
       "      <td>5.000000</td>\n",
       "      <td>1007.766667</td>\n",
       "      <td>10.2</td>\n",
       "      <td>280.000000</td>\n",
       "      <td>5.0</td>\n",
       "      <td>1008.300000</td>\n",
       "      <td>15.4</td>\n",
       "      <td>290.0</td>\n",
       "      <td>6.083333</td>\n",
       "      <td>NaN</td>\n",
       "      <td>12.383333</td>\n",
       "      <td>310.000000</td>\n",
       "      <td>6.142857</td>\n",
       "      <td>1011.066667</td>\n",
       "      <td>12.585714</td>\n",
       "      <td>290.0</td>\n",
       "      <td>5.000000</td>\n",
       "      <td>NaN</td>\n",
       "      <td>11.466667</td>\n",
       "      <td>280.000000</td>\n",
       "    </tr>\n",
       "    <tr>\n",
       "      <th>1980-03-01 12:00:00</th>\n",
       "      <td>5.000000</td>\n",
       "      <td>1008.000000</td>\n",
       "      <td>10.3</td>\n",
       "      <td>290.000000</td>\n",
       "      <td>5.0</td>\n",
       "      <td>1008.600000</td>\n",
       "      <td>13.4</td>\n",
       "      <td>280.0</td>\n",
       "      <td>6.583333</td>\n",
       "      <td>NaN</td>\n",
       "      <td>12.883333</td>\n",
       "      <td>310.000000</td>\n",
       "      <td>7.000000</td>\n",
       "      <td>1011.200000</td>\n",
       "      <td>11.300000</td>\n",
       "      <td>290.0</td>\n",
       "      <td>5.000000</td>\n",
       "      <td>NaN</td>\n",
       "      <td>12.466667</td>\n",
       "      <td>280.000000</td>\n",
       "    </tr>\n",
       "    <tr>\n",
       "      <th>1980-03-01 13:00:00</th>\n",
       "      <td>5.000000</td>\n",
       "      <td>1008.066667</td>\n",
       "      <td>9.7</td>\n",
       "      <td>290.000000</td>\n",
       "      <td>5.0</td>\n",
       "      <td>1008.433333</td>\n",
       "      <td>15.4</td>\n",
       "      <td>280.0</td>\n",
       "      <td>6.888889</td>\n",
       "      <td>NaN</td>\n",
       "      <td>13.244444</td>\n",
       "      <td>309.444444</td>\n",
       "      <td>7.000000</td>\n",
       "      <td>1011.300000</td>\n",
       "      <td>12.118182</td>\n",
       "      <td>290.0</td>\n",
       "      <td>5.166667</td>\n",
       "      <td>NaN</td>\n",
       "      <td>13.133333</td>\n",
       "      <td>278.333333</td>\n",
       "    </tr>\n",
       "    <tr>\n",
       "      <th>1980-03-01 14:00:00</th>\n",
       "      <td>4.333333</td>\n",
       "      <td>1008.133333</td>\n",
       "      <td>11.1</td>\n",
       "      <td>283.333333</td>\n",
       "      <td>5.0</td>\n",
       "      <td>1008.266667</td>\n",
       "      <td>14.9</td>\n",
       "      <td>300.0</td>\n",
       "      <td>6.222222</td>\n",
       "      <td>NaN</td>\n",
       "      <td>12.911111</td>\n",
       "      <td>306.111111</td>\n",
       "      <td>6.857143</td>\n",
       "      <td>1011.400000</td>\n",
       "      <td>12.742857</td>\n",
       "      <td>290.0</td>\n",
       "      <td>5.833333</td>\n",
       "      <td>NaN</td>\n",
       "      <td>12.300000</td>\n",
       "      <td>270.000000</td>\n",
       "    </tr>\n",
       "    <tr>\n",
       "      <th>1980-03-01 15:00:00</th>\n",
       "      <td>4.000000</td>\n",
       "      <td>1008.200000</td>\n",
       "      <td>11.3</td>\n",
       "      <td>280.000000</td>\n",
       "      <td>5.0</td>\n",
       "      <td>1008.100000</td>\n",
       "      <td>17.0</td>\n",
       "      <td>290.0</td>\n",
       "      <td>5.555556</td>\n",
       "      <td>NaN</td>\n",
       "      <td>12.577778</td>\n",
       "      <td>302.777778</td>\n",
       "      <td>6.000000</td>\n",
       "      <td>1011.500000</td>\n",
       "      <td>12.400000</td>\n",
       "      <td>290.0</td>\n",
       "      <td>4.833333</td>\n",
       "      <td>NaN</td>\n",
       "      <td>12.300000</td>\n",
       "      <td>270.000000</td>\n",
       "    </tr>\n",
       "  </tbody>\n",
       "</table>\n",
       "</div>"
      ],
      "text/plain": [
       "                      Aalborg               ...   Roskilde            \n",
       "                         Temp     Pressure  ...  WindSpeed     WindDir\n",
       "DateTime                                    ...                       \n",
       "1980-03-01 11:00:00  5.000000  1007.766667  ...  11.466667  280.000000\n",
       "1980-03-01 12:00:00  5.000000  1008.000000  ...  12.466667  280.000000\n",
       "1980-03-01 13:00:00  5.000000  1008.066667  ...  13.133333  278.333333\n",
       "1980-03-01 14:00:00  4.333333  1008.133333  ...  12.300000  270.000000\n",
       "1980-03-01 15:00:00  4.000000  1008.200000  ...  12.300000  270.000000\n",
       "\n",
       "[5 rows x 20 columns]"
      ]
     },
     "execution_count": 10,
     "metadata": {
      "tags": []
     },
     "output_type": "execute_result"
    }
   ],
   "source": [
    "df.head()"
   ]
  },
  {
   "cell_type": "code",
   "execution_count": 0,
   "metadata": {
    "colab": {
     "base_uri": "https://localhost:8080/",
     "height": 296
    },
    "colab_type": "code",
    "executionInfo": {
     "elapsed": 130267,
     "status": "ok",
     "timestamp": 1574107583028,
     "user": {
      "displayName": "Yash Chandra verma",
      "photoUrl": "https://lh3.googleusercontent.com/a-/AAuE7mBBdKmttPchBCWwxFQ2pFyVxIOCfNm0nWPrBjtVGw=s64",
      "userId": "01320690721796493910"
     },
     "user_tz": -330
    },
    "id": "I7useZ89f6Wk",
    "outputId": "e56dcde7-4371-41a8-b489-00011fe233fc"
   },
   "outputs": [
    {
     "data": {
      "text/plain": [
       "<matplotlib.axes._subplots.AxesSubplot at 0x7f6eca592518>"
      ]
     },
     "execution_count": 11,
     "metadata": {
      "tags": []
     },
     "output_type": "execute_result"
    },
    {
     "data": {
      "image/png": "[encoded data removed]",
      "text/plain": [
       "<Figure size 432x288 with 1 Axes>"
      ]
     },
     "metadata": {
      "tags": []
     },
     "output_type": "display_data"
    }
   ],
   "source": [
    "df['Esbjerg']['Pressure'].plot()"
   ]
  },
  {
   "cell_type": "code",
   "execution_count": 0,
   "metadata": {
    "colab": {
     "base_uri": "https://localhost:8080/",
     "height": 296
    },
    "colab_type": "code",
    "executionInfo": {
     "elapsed": 131571,
     "status": "ok",
     "timestamp": 1574107584358,
     "user": {
      "displayName": "Yash Chandra verma",
      "photoUrl": "https://lh3.googleusercontent.com/a-/AAuE7mBBdKmttPchBCWwxFQ2pFyVxIOCfNm0nWPrBjtVGw=s64",
      "userId": "01320690721796493910"
     },
     "user_tz": -330
    },
    "id": "1Y85UrMvf6Wu",
    "outputId": "d4220cd6-30f6-4755-b27b-be35b8839979",
    "scrolled": true
   },
   "outputs": [
    {
     "data": {
      "text/plain": [
       "<matplotlib.axes._subplots.AxesSubplot at 0x7f6ec830d908>"
      ]
     },
     "execution_count": 12,
     "metadata": {
      "tags": []
     },
     "output_type": "execute_result"
    },
    {
     "data": {
      "image/png": "[encoded data removed]",
      "text/plain": [
       "<Figure size 432x288 with 1 Axes>"
      ]
     },
     "metadata": {
      "tags": []
     },
     "output_type": "display_data"
    }
   ],
   "source": [
    "df['Roskilde']['Pressure'].plot()"
   ]
  },
  {
   "cell_type": "code",
   "execution_count": 0,
   "metadata": {
    "colab": {
     "base_uri": "https://localhost:8080/",
     "height": 34
    },
    "colab_type": "code",
    "executionInfo": {
     "elapsed": 131554,
     "status": "ok",
     "timestamp": 1574107584368,
     "user": {
      "displayName": "Yash Chandra verma",
      "photoUrl": "https://lh3.googleusercontent.com/a-/AAuE7mBBdKmttPchBCWwxFQ2pFyVxIOCfNm0nWPrBjtVGw=s64",
      "userId": "01320690721796493910"
     },
     "user_tz": -330
    },
    "id": "xG_EcqSxf6Wy",
    "outputId": "dcc1786f-d19a-4e7d-d669-99abf678ed4b"
   },
   "outputs": [
    {
     "data": {
      "text/plain": [
       "(333109, 20)"
      ]
     },
     "execution_count": 13,
     "metadata": {
      "tags": []
     },
     "output_type": "execute_result"
    }
   ],
   "source": [
    "df.values.shape"
   ]
  },
  {
   "cell_type": "code",
   "execution_count": 0,
   "metadata": {
    "colab": {},
    "colab_type": "code",
    "id": "WQ2ldrs1f6W4"
   },
   "outputs": [],
   "source": [
    "df.drop(('Esbjerg', 'Pressure'), axis=1, inplace=True)\n",
    "df.drop(('Roskilde', 'Pressure'), axis=1, inplace=True)"
   ]
  },
  {
   "cell_type": "code",
   "execution_count": 0,
   "metadata": {
    "colab": {
     "base_uri": "https://localhost:8080/",
     "height": 34
    },
    "colab_type": "code",
    "executionInfo": {
     "elapsed": 131539,
     "status": "ok",
     "timestamp": 1574107584380,
     "user": {
      "displayName": "Yash Chandra verma",
      "photoUrl": "https://lh3.googleusercontent.com/a-/AAuE7mBBdKmttPchBCWwxFQ2pFyVxIOCfNm0nWPrBjtVGw=s64",
      "userId": "01320690721796493910"
     },
     "user_tz": -330
    },
    "id": "9RFrx6Qjf6W8",
    "outputId": "e7eabdef-dc14-4ff2-b73f-476e5682bc85"
   },
   "outputs": [
    {
     "data": {
      "text/plain": [
       "(333109, 18)"
      ]
     },
     "execution_count": 15,
     "metadata": {
      "tags": []
     },
     "output_type": "execute_result"
    }
   ],
   "source": [
    "df.values.shape"
   ]
  },
  {
   "cell_type": "code",
   "execution_count": 0,
   "metadata": {
    "colab": {
     "base_uri": "https://localhost:8080/",
     "height": 153
    },
    "colab_type": "code",
    "executionInfo": {
     "elapsed": 131524,
     "status": "ok",
     "timestamp": 1574107584385,
     "user": {
      "displayName": "Yash Chandra verma",
      "photoUrl": "https://lh3.googleusercontent.com/a-/AAuE7mBBdKmttPchBCWwxFQ2pFyVxIOCfNm0nWPrBjtVGw=s64",
      "userId": "01320690721796493910"
     },
     "user_tz": -330
    },
    "id": "eevjv4s9f6XE",
    "outputId": "e54ff5fe-78b4-4e49-f130-5ee71683e067"
   },
   "outputs": [
    {
     "data": {
      "text/html": [
       "<div>\n",
       "<style scoped>\n",
       "    .dataframe tbody tr th:only-of-type {\n",
       "        vertical-align: middle;\n",
       "    }\n",
       "\n",
       "    .dataframe tbody tr th {\n",
       "        vertical-align: top;\n",
       "    }\n",
       "\n",
       "    .dataframe thead tr th {\n",
       "        text-align: left;\n",
       "    }\n",
       "\n",
       "    .dataframe thead tr:last-of-type th {\n",
       "        text-align: right;\n",
       "    }\n",
       "</style>\n",
       "<table border=\"1\" class=\"dataframe\">\n",
       "  <thead>\n",
       "    <tr>\n",
       "      <th></th>\n",
       "      <th colspan=\"4\" halign=\"left\">Aalborg</th>\n",
       "      <th colspan=\"4\" halign=\"left\">Aarhus</th>\n",
       "      <th colspan=\"3\" halign=\"left\">Esbjerg</th>\n",
       "      <th colspan=\"4\" halign=\"left\">Odense</th>\n",
       "      <th colspan=\"3\" halign=\"left\">Roskilde</th>\n",
       "    </tr>\n",
       "    <tr>\n",
       "      <th></th>\n",
       "      <th>Temp</th>\n",
       "      <th>Pressure</th>\n",
       "      <th>WindSpeed</th>\n",
       "      <th>WindDir</th>\n",
       "      <th>Temp</th>\n",
       "      <th>Pressure</th>\n",
       "      <th>WindSpeed</th>\n",
       "      <th>WindDir</th>\n",
       "      <th>Temp</th>\n",
       "      <th>WindSpeed</th>\n",
       "      <th>WindDir</th>\n",
       "      <th>Temp</th>\n",
       "      <th>Pressure</th>\n",
       "      <th>WindSpeed</th>\n",
       "      <th>WindDir</th>\n",
       "      <th>Temp</th>\n",
       "      <th>WindSpeed</th>\n",
       "      <th>WindDir</th>\n",
       "    </tr>\n",
       "    <tr>\n",
       "      <th>DateTime</th>\n",
       "      <th></th>\n",
       "      <th></th>\n",
       "      <th></th>\n",
       "      <th></th>\n",
       "      <th></th>\n",
       "      <th></th>\n",
       "      <th></th>\n",
       "      <th></th>\n",
       "      <th></th>\n",
       "      <th></th>\n",
       "      <th></th>\n",
       "      <th></th>\n",
       "      <th></th>\n",
       "      <th></th>\n",
       "      <th></th>\n",
       "      <th></th>\n",
       "      <th></th>\n",
       "      <th></th>\n",
       "    </tr>\n",
       "  </thead>\n",
       "  <tbody>\n",
       "    <tr>\n",
       "      <th>1980-03-01 11:00:00</th>\n",
       "      <td>5.0</td>\n",
       "      <td>1007.766667</td>\n",
       "      <td>10.2</td>\n",
       "      <td>280.0</td>\n",
       "      <td>5.0</td>\n",
       "      <td>1008.3</td>\n",
       "      <td>15.4</td>\n",
       "      <td>290.0</td>\n",
       "      <td>6.083333</td>\n",
       "      <td>12.383333</td>\n",
       "      <td>310.0</td>\n",
       "      <td>6.142857</td>\n",
       "      <td>1011.066667</td>\n",
       "      <td>12.585714</td>\n",
       "      <td>290.0</td>\n",
       "      <td>5.0</td>\n",
       "      <td>11.466667</td>\n",
       "      <td>280.0</td>\n",
       "    </tr>\n",
       "  </tbody>\n",
       "</table>\n",
       "</div>"
      ],
      "text/plain": [
       "                    Aalborg                         ... Roskilde                   \n",
       "                       Temp     Pressure WindSpeed  ...     Temp  WindSpeed WindDir\n",
       "DateTime                                            ...                            \n",
       "1980-03-01 11:00:00     5.0  1007.766667      10.2  ...      5.0  11.466667   280.0\n",
       "\n",
       "[1 rows x 18 columns]"
      ]
     },
     "execution_count": 16,
     "metadata": {
      "tags": []
     },
     "output_type": "execute_result"
    }
   ],
   "source": [
    "df.head(1)"
   ]
  },
  {
   "cell_type": "code",
   "execution_count": 0,
   "metadata": {
    "colab": {
     "base_uri": "https://localhost:8080/",
     "height": 308
    },
    "colab_type": "code",
    "executionInfo": {
     "elapsed": 131510,
     "status": "ok",
     "timestamp": 1574107584389,
     "user": {
      "displayName": "Yash Chandra verma",
      "photoUrl": "https://lh3.googleusercontent.com/a-/AAuE7mBBdKmttPchBCWwxFQ2pFyVxIOCfNm0nWPrBjtVGw=s64",
      "userId": "01320690721796493910"
     },
     "user_tz": -330
    },
    "id": "JRPzOQmkf6XP",
    "outputId": "28594b76-22ac-4a26-e0d8-f3409e214894"
   },
   "outputs": [
    {
     "data": {
      "text/plain": [
       "<matplotlib.axes._subplots.AxesSubplot at 0x7f6ec6680c18>"
      ]
     },
     "execution_count": 17,
     "metadata": {
      "tags": []
     },
     "output_type": "execute_result"
    },
    {
     "data": {
      "image/png": "[encoded data removed]",
      "text/plain": [
       "<Figure size 432x288 with 1 Axes>"
      ]
     },
     "metadata": {
      "tags": []
     },
     "output_type": "display_data"
    }
   ],
   "source": [
    "df['Odense']['Temp']['2006-05':'2006-07'].plot()"
   ]
  },
  {
   "cell_type": "code",
   "execution_count": 0,
   "metadata": {
    "colab": {
     "base_uri": "https://localhost:8080/",
     "height": 308
    },
    "colab_type": "code",
    "executionInfo": {
     "elapsed": 134164,
     "status": "ok",
     "timestamp": 1574107587066,
     "user": {
      "displayName": "Yash Chandra verma",
      "photoUrl": "https://lh3.googleusercontent.com/a-/AAuE7mBBdKmttPchBCWwxFQ2pFyVxIOCfNm0nWPrBjtVGw=s64",
      "userId": "01320690721796493910"
     },
     "user_tz": -330
    },
    "id": "rtLTsmLRf6XT",
    "outputId": "b6066fca-8faa-43c2-ba16-1cdbf92a9419",
    "scrolled": true
   },
   "outputs": [
    {
     "data": {
      "text/plain": [
       "<matplotlib.axes._subplots.AxesSubplot at 0x7f6ec65a5438>"
      ]
     },
     "execution_count": 18,
     "metadata": {
      "tags": []
     },
     "output_type": "execute_result"
    },
    {
     "data": {
      "image/png": "[encoded data removed]",
      "text/plain": [
       "<Figure size 432x288 with 1 Axes>"
      ]
     },
     "metadata": {
      "tags": []
     },
     "output_type": "display_data"
    }
   ],
   "source": [
    "df['Aarhus']['Temp']['2006-05':'2006-07'].plot()"
   ]
  },
  {
   "cell_type": "code",
   "execution_count": 0,
   "metadata": {
    "colab": {
     "base_uri": "https://localhost:8080/",
     "height": 308
    },
    "colab_type": "code",
    "executionInfo": {
     "elapsed": 134141,
     "status": "ok",
     "timestamp": 1574107587067,
     "user": {
      "displayName": "Yash Chandra verma",
      "photoUrl": "https://lh3.googleusercontent.com/a-/AAuE7mBBdKmttPchBCWwxFQ2pFyVxIOCfNm0nWPrBjtVGw=s64",
      "userId": "01320690721796493910"
     },
     "user_tz": -330
    },
    "id": "bSREr2X9f6XZ",
    "outputId": "3d108298-13ba-4aab-d845-58104444f60d"
   },
   "outputs": [
    {
     "data": {
      "text/plain": [
       "<matplotlib.axes._subplots.AxesSubplot at 0x7f6ec64d6438>"
      ]
     },
     "execution_count": 19,
     "metadata": {
      "tags": []
     },
     "output_type": "execute_result"
    },
    {
     "data": {
      "image/png": "[encoded data removed]",
      "text/plain": [
       "<Figure size 432x288 with 1 Axes>"
      ]
     },
     "metadata": {
      "tags": []
     },
     "output_type": "display_data"
    }
   ],
   "source": [
    "df['Roskilde']['Temp']['2006-05':'2006-07'].plot()"
   ]
  },
  {
   "cell_type": "code",
   "execution_count": 0,
   "metadata": {
    "colab": {},
    "colab_type": "code",
    "id": "YuWRMb-lf6Xe"
   },
   "outputs": [],
   "source": [
    "df['Various', 'Day'] = df.index.dayofyear\n",
    "df['Various', 'Hour'] = df.index.hour"
   ]
  },
  {
   "cell_type": "code",
   "execution_count": 0,
   "metadata": {
    "colab": {
     "base_uri": "https://localhost:8080/",
     "height": 190
    },
    "colab_type": "code",
    "executionInfo": {
     "elapsed": 134101,
     "status": "ok",
     "timestamp": 1574107587069,
     "user": {
      "displayName": "Yash Chandra verma",
      "photoUrl": "https://lh3.googleusercontent.com/a-/AAuE7mBBdKmttPchBCWwxFQ2pFyVxIOCfNm0nWPrBjtVGw=s64",
      "userId": "01320690721796493910"
     },
     "user_tz": -330
    },
    "id": "dMMqHSs6nwWS",
    "outputId": "d22f1061-3015-4d86-c647-5d2a7c4f3cfb"
   },
   "outputs": [
    {
     "data": {
      "text/html": [
       "<div>\n",
       "<style scoped>\n",
       "    .dataframe tbody tr th:only-of-type {\n",
       "        vertical-align: middle;\n",
       "    }\n",
       "\n",
       "    .dataframe tbody tr th {\n",
       "        vertical-align: top;\n",
       "    }\n",
       "\n",
       "    .dataframe thead tr th {\n",
       "        text-align: left;\n",
       "    }\n",
       "\n",
       "    .dataframe thead tr:last-of-type th {\n",
       "        text-align: right;\n",
       "    }\n",
       "</style>\n",
       "<table border=\"1\" class=\"dataframe\">\n",
       "  <thead>\n",
       "    <tr>\n",
       "      <th></th>\n",
       "      <th colspan=\"4\" halign=\"left\">Aalborg</th>\n",
       "      <th colspan=\"4\" halign=\"left\">Aarhus</th>\n",
       "      <th colspan=\"3\" halign=\"left\">Esbjerg</th>\n",
       "      <th colspan=\"4\" halign=\"left\">Odense</th>\n",
       "      <th colspan=\"3\" halign=\"left\">Roskilde</th>\n",
       "      <th colspan=\"2\" halign=\"left\">Various</th>\n",
       "    </tr>\n",
       "    <tr>\n",
       "      <th></th>\n",
       "      <th>Temp</th>\n",
       "      <th>Pressure</th>\n",
       "      <th>WindSpeed</th>\n",
       "      <th>WindDir</th>\n",
       "      <th>Temp</th>\n",
       "      <th>Pressure</th>\n",
       "      <th>WindSpeed</th>\n",
       "      <th>WindDir</th>\n",
       "      <th>Temp</th>\n",
       "      <th>WindSpeed</th>\n",
       "      <th>WindDir</th>\n",
       "      <th>Temp</th>\n",
       "      <th>Pressure</th>\n",
       "      <th>WindSpeed</th>\n",
       "      <th>WindDir</th>\n",
       "      <th>Temp</th>\n",
       "      <th>WindSpeed</th>\n",
       "      <th>WindDir</th>\n",
       "      <th>Day</th>\n",
       "      <th>Hour</th>\n",
       "    </tr>\n",
       "    <tr>\n",
       "      <th>DateTime</th>\n",
       "      <th></th>\n",
       "      <th></th>\n",
       "      <th></th>\n",
       "      <th></th>\n",
       "      <th></th>\n",
       "      <th></th>\n",
       "      <th></th>\n",
       "      <th></th>\n",
       "      <th></th>\n",
       "      <th></th>\n",
       "      <th></th>\n",
       "      <th></th>\n",
       "      <th></th>\n",
       "      <th></th>\n",
       "      <th></th>\n",
       "      <th></th>\n",
       "      <th></th>\n",
       "      <th></th>\n",
       "      <th></th>\n",
       "      <th></th>\n",
       "    </tr>\n",
       "  </thead>\n",
       "  <tbody>\n",
       "    <tr>\n",
       "      <th>1980-03-01 11:00:00</th>\n",
       "      <td>5.0</td>\n",
       "      <td>1007.766667</td>\n",
       "      <td>10.2</td>\n",
       "      <td>280.0</td>\n",
       "      <td>5.0</td>\n",
       "      <td>1008.3</td>\n",
       "      <td>15.4</td>\n",
       "      <td>290.0</td>\n",
       "      <td>6.083333</td>\n",
       "      <td>12.383333</td>\n",
       "      <td>310.0</td>\n",
       "      <td>6.142857</td>\n",
       "      <td>1011.066667</td>\n",
       "      <td>12.585714</td>\n",
       "      <td>290.0</td>\n",
       "      <td>5.0</td>\n",
       "      <td>11.466667</td>\n",
       "      <td>280.0</td>\n",
       "      <td>61</td>\n",
       "      <td>11</td>\n",
       "    </tr>\n",
       "  </tbody>\n",
       "</table>\n",
       "</div>"
      ],
      "text/plain": [
       "                    Aalborg                         ... Roskilde Various     \n",
       "                       Temp     Pressure WindSpeed  ...  WindDir     Day Hour\n",
       "DateTime                                            ...                      \n",
       "1980-03-01 11:00:00     5.0  1007.766667      10.2  ...    280.0      61   11\n",
       "\n",
       "[1 rows x 20 columns]"
      ]
     },
     "execution_count": 21,
     "metadata": {
      "tags": []
     },
     "output_type": "execute_result"
    }
   ],
   "source": [
    "df.head(1)"
   ]
  },
  {
   "cell_type": "code",
   "execution_count": 0,
   "metadata": {
    "colab": {},
    "colab_type": "code",
    "id": "CjBOENatf6Xi"
   },
   "outputs": [],
   "source": [
    "target_city = 'Odense'"
   ]
  },
  {
   "cell_type": "code",
   "execution_count": 0,
   "metadata": {
    "colab": {},
    "colab_type": "code",
    "id": "m3_H6-4Bf6Xr"
   },
   "outputs": [],
   "source": [
    "target_names = ['Temp', 'WindSpeed', 'Pressure']"
   ]
  },
  {
   "cell_type": "code",
   "execution_count": 0,
   "metadata": {
    "colab": {},
    "colab_type": "code",
    "id": "Zh3SRReCf6Xx"
   },
   "outputs": [],
   "source": [
    "shift_days = 1\n",
    "shift_steps = shift_days * 24  # Number of hours."
   ]
  },
  {
   "cell_type": "code",
   "execution_count": 0,
   "metadata": {
    "colab": {},
    "colab_type": "code",
    "id": "bJQGzu0Pf6Yg"
   },
   "outputs": [],
   "source": [
    "df_targets = df[target_city][target_names].shift(-shift_steps)"
   ]
  },
  {
   "cell_type": "code",
   "execution_count": 0,
   "metadata": {
    "colab": {
     "base_uri": "https://localhost:8080/",
     "height": 935
    },
    "colab_type": "code",
    "executionInfo": {
     "elapsed": 133965,
     "status": "ok",
     "timestamp": 1574107587075,
     "user": {
      "displayName": "Yash Chandra verma",
      "photoUrl": "https://lh3.googleusercontent.com/a-/AAuE7mBBdKmttPchBCWwxFQ2pFyVxIOCfNm0nWPrBjtVGw=s64",
      "userId": "01320690721796493910"
     },
     "user_tz": -330
    },
    "id": "Fu8FOYdxf6Yq",
    "outputId": "26d47401-9066-49dd-f52c-07d2f058bef6"
   },
   "outputs": [
    {
     "data": {
      "text/html": [
       "<div>\n",
       "<style scoped>\n",
       "    .dataframe tbody tr th:only-of-type {\n",
       "        vertical-align: middle;\n",
       "    }\n",
       "\n",
       "    .dataframe tbody tr th {\n",
       "        vertical-align: top;\n",
       "    }\n",
       "\n",
       "    .dataframe thead th {\n",
       "        text-align: right;\n",
       "    }\n",
       "</style>\n",
       "<table border=\"1\" class=\"dataframe\">\n",
       "  <thead>\n",
       "    <tr style=\"text-align: right;\">\n",
       "      <th></th>\n",
       "      <th>Temp</th>\n",
       "      <th>WindSpeed</th>\n",
       "      <th>Pressure</th>\n",
       "    </tr>\n",
       "    <tr>\n",
       "      <th>DateTime</th>\n",
       "      <th></th>\n",
       "      <th></th>\n",
       "      <th></th>\n",
       "    </tr>\n",
       "  </thead>\n",
       "  <tbody>\n",
       "    <tr>\n",
       "      <th>1980-03-01 11:00:00</th>\n",
       "      <td>6.142857</td>\n",
       "      <td>12.585714</td>\n",
       "      <td>1011.066667</td>\n",
       "    </tr>\n",
       "    <tr>\n",
       "      <th>1980-03-01 12:00:00</th>\n",
       "      <td>7.000000</td>\n",
       "      <td>11.300000</td>\n",
       "      <td>1011.200000</td>\n",
       "    </tr>\n",
       "    <tr>\n",
       "      <th>1980-03-01 13:00:00</th>\n",
       "      <td>7.000000</td>\n",
       "      <td>12.118182</td>\n",
       "      <td>1011.300000</td>\n",
       "    </tr>\n",
       "    <tr>\n",
       "      <th>1980-03-01 14:00:00</th>\n",
       "      <td>6.857143</td>\n",
       "      <td>12.742857</td>\n",
       "      <td>1011.400000</td>\n",
       "    </tr>\n",
       "    <tr>\n",
       "      <th>1980-03-01 15:00:00</th>\n",
       "      <td>6.000000</td>\n",
       "      <td>12.400000</td>\n",
       "      <td>1011.500000</td>\n",
       "    </tr>\n",
       "    <tr>\n",
       "      <th>1980-03-01 16:00:00</th>\n",
       "      <td>4.909091</td>\n",
       "      <td>12.618182</td>\n",
       "      <td>1011.688889</td>\n",
       "    </tr>\n",
       "    <tr>\n",
       "      <th>1980-03-01 17:00:00</th>\n",
       "      <td>3.953488</td>\n",
       "      <td>12.646512</td>\n",
       "      <td>1011.877778</td>\n",
       "    </tr>\n",
       "    <tr>\n",
       "      <th>1980-03-01 18:00:00</th>\n",
       "      <td>3.674419</td>\n",
       "      <td>11.725581</td>\n",
       "      <td>1012.066667</td>\n",
       "    </tr>\n",
       "    <tr>\n",
       "      <th>1980-03-01 19:00:00</th>\n",
       "      <td>3.395349</td>\n",
       "      <td>10.804651</td>\n",
       "      <td>1012.255556</td>\n",
       "    </tr>\n",
       "    <tr>\n",
       "      <th>1980-03-01 20:00:00</th>\n",
       "      <td>3.116279</td>\n",
       "      <td>9.883721</td>\n",
       "      <td>1012.444444</td>\n",
       "    </tr>\n",
       "    <tr>\n",
       "      <th>1980-03-01 21:00:00</th>\n",
       "      <td>2.837209</td>\n",
       "      <td>8.962791</td>\n",
       "      <td>1012.633333</td>\n",
       "    </tr>\n",
       "    <tr>\n",
       "      <th>1980-03-01 22:00:00</th>\n",
       "      <td>2.558140</td>\n",
       "      <td>8.041860</td>\n",
       "      <td>1012.822222</td>\n",
       "    </tr>\n",
       "    <tr>\n",
       "      <th>1980-03-01 23:00:00</th>\n",
       "      <td>2.279070</td>\n",
       "      <td>7.120930</td>\n",
       "      <td>1013.011111</td>\n",
       "    </tr>\n",
       "    <tr>\n",
       "      <th>1980-03-02 00:00:00</th>\n",
       "      <td>2.000000</td>\n",
       "      <td>6.200000</td>\n",
       "      <td>1013.200000</td>\n",
       "    </tr>\n",
       "    <tr>\n",
       "      <th>1980-03-02 01:00:00</th>\n",
       "      <td>2.076923</td>\n",
       "      <td>7.738462</td>\n",
       "      <td>1012.366667</td>\n",
       "    </tr>\n",
       "    <tr>\n",
       "      <th>1980-03-02 02:00:00</th>\n",
       "      <td>2.538462</td>\n",
       "      <td>7.969231</td>\n",
       "      <td>1011.533333</td>\n",
       "    </tr>\n",
       "    <tr>\n",
       "      <th>1980-03-02 03:00:00</th>\n",
       "      <td>3.000000</td>\n",
       "      <td>8.200000</td>\n",
       "      <td>1010.700000</td>\n",
       "    </tr>\n",
       "    <tr>\n",
       "      <th>1980-03-02 04:00:00</th>\n",
       "      <td>3.000000</td>\n",
       "      <td>7.927273</td>\n",
       "      <td>1010.100000</td>\n",
       "    </tr>\n",
       "    <tr>\n",
       "      <th>1980-03-02 05:00:00</th>\n",
       "      <td>2.916667</td>\n",
       "      <td>7.658333</td>\n",
       "      <td>1009.500000</td>\n",
       "    </tr>\n",
       "    <tr>\n",
       "      <th>1980-03-02 06:00:00</th>\n",
       "      <td>2.416667</td>\n",
       "      <td>7.408333</td>\n",
       "      <td>1008.900000</td>\n",
       "    </tr>\n",
       "    <tr>\n",
       "      <th>1980-03-02 07:00:00</th>\n",
       "      <td>2.000000</td>\n",
       "      <td>7.100000</td>\n",
       "      <td>1008.300000</td>\n",
       "    </tr>\n",
       "    <tr>\n",
       "      <th>1980-03-02 08:00:00</th>\n",
       "      <td>2.142857</td>\n",
       "      <td>6.542857</td>\n",
       "      <td>1007.700000</td>\n",
       "    </tr>\n",
       "    <tr>\n",
       "      <th>1980-03-02 09:00:00</th>\n",
       "      <td>3.000000</td>\n",
       "      <td>6.200000</td>\n",
       "      <td>1007.100000</td>\n",
       "    </tr>\n",
       "    <tr>\n",
       "      <th>1980-03-02 10:00:00</th>\n",
       "      <td>2.833333</td>\n",
       "      <td>8.350000</td>\n",
       "      <td>1006.466667</td>\n",
       "    </tr>\n",
       "    <tr>\n",
       "      <th>1980-03-02 11:00:00</th>\n",
       "      <td>2.000000</td>\n",
       "      <td>6.828571</td>\n",
       "      <td>1005.833333</td>\n",
       "    </tr>\n",
       "    <tr>\n",
       "      <th>1980-03-02 12:00:00</th>\n",
       "      <td>2.000000</td>\n",
       "      <td>8.200000</td>\n",
       "      <td>1005.200000</td>\n",
       "    </tr>\n",
       "    <tr>\n",
       "      <th>1980-03-02 13:00:00</th>\n",
       "      <td>0.166667</td>\n",
       "      <td>9.216667</td>\n",
       "      <td>1004.766667</td>\n",
       "    </tr>\n",
       "    <tr>\n",
       "      <th>1980-03-02 14:00:00</th>\n",
       "      <td>1.000000</td>\n",
       "      <td>11.885714</td>\n",
       "      <td>1004.333333</td>\n",
       "    </tr>\n",
       "    <tr>\n",
       "      <th>1980-03-02 15:00:00</th>\n",
       "      <td>1.000000</td>\n",
       "      <td>12.400000</td>\n",
       "      <td>1003.900000</td>\n",
       "    </tr>\n",
       "  </tbody>\n",
       "</table>\n",
       "</div>"
      ],
      "text/plain": [
       "                         Temp  WindSpeed     Pressure\n",
       "DateTime                                             \n",
       "1980-03-01 11:00:00  6.142857  12.585714  1011.066667\n",
       "1980-03-01 12:00:00  7.000000  11.300000  1011.200000\n",
       "1980-03-01 13:00:00  7.000000  12.118182  1011.300000\n",
       "1980-03-01 14:00:00  6.857143  12.742857  1011.400000\n",
       "1980-03-01 15:00:00  6.000000  12.400000  1011.500000\n",
       "1980-03-01 16:00:00  4.909091  12.618182  1011.688889\n",
       "1980-03-01 17:00:00  3.953488  12.646512  1011.877778\n",
       "1980-03-01 18:00:00  3.674419  11.725581  1012.066667\n",
       "1980-03-01 19:00:00  3.395349  10.804651  1012.255556\n",
       "1980-03-01 20:00:00  3.116279   9.883721  1012.444444\n",
       "1980-03-01 21:00:00  2.837209   8.962791  1012.633333\n",
       "1980-03-01 22:00:00  2.558140   8.041860  1012.822222\n",
       "1980-03-01 23:00:00  2.279070   7.120930  1013.011111\n",
       "1980-03-02 00:00:00  2.000000   6.200000  1013.200000\n",
       "1980-03-02 01:00:00  2.076923   7.738462  1012.366667\n",
       "1980-03-02 02:00:00  2.538462   7.969231  1011.533333\n",
       "1980-03-02 03:00:00  3.000000   8.200000  1010.700000\n",
       "1980-03-02 04:00:00  3.000000   7.927273  1010.100000\n",
       "1980-03-02 05:00:00  2.916667   7.658333  1009.500000\n",
       "1980-03-02 06:00:00  2.416667   7.408333  1008.900000\n",
       "1980-03-02 07:00:00  2.000000   7.100000  1008.300000\n",
       "1980-03-02 08:00:00  2.142857   6.542857  1007.700000\n",
       "1980-03-02 09:00:00  3.000000   6.200000  1007.100000\n",
       "1980-03-02 10:00:00  2.833333   8.350000  1006.466667\n",
       "1980-03-02 11:00:00  2.000000   6.828571  1005.833333\n",
       "1980-03-02 12:00:00  2.000000   8.200000  1005.200000\n",
       "1980-03-02 13:00:00  0.166667   9.216667  1004.766667\n",
       "1980-03-02 14:00:00  1.000000  11.885714  1004.333333\n",
       "1980-03-02 15:00:00  1.000000  12.400000  1003.900000"
      ]
     },
     "execution_count": 26,
     "metadata": {
      "tags": []
     },
     "output_type": "execute_result"
    }
   ],
   "source": [
    "df[target_city][target_names].head(shift_steps + 5)"
   ]
  },
  {
   "cell_type": "code",
   "execution_count": 0,
   "metadata": {
    "colab": {
     "base_uri": "https://localhost:8080/",
     "height": 225
    },
    "colab_type": "code",
    "executionInfo": {
     "elapsed": 133945,
     "status": "ok",
     "timestamp": 1574107587076,
     "user": {
      "displayName": "Yash Chandra verma",
      "photoUrl": "https://lh3.googleusercontent.com/a-/AAuE7mBBdKmttPchBCWwxFQ2pFyVxIOCfNm0nWPrBjtVGw=s64",
      "userId": "01320690721796493910"
     },
     "user_tz": -330
    },
    "id": "blb8CzQtf6Y3",
    "outputId": "2416fc9c-1407-4173-c744-ba8cfbc65c58",
    "scrolled": false
   },
   "outputs": [
    {
     "data": {
      "text/html": [
       "<div>\n",
       "<style scoped>\n",
       "    .dataframe tbody tr th:only-of-type {\n",
       "        vertical-align: middle;\n",
       "    }\n",
       "\n",
       "    .dataframe tbody tr th {\n",
       "        vertical-align: top;\n",
       "    }\n",
       "\n",
       "    .dataframe thead th {\n",
       "        text-align: right;\n",
       "    }\n",
       "</style>\n",
       "<table border=\"1\" class=\"dataframe\">\n",
       "  <thead>\n",
       "    <tr style=\"text-align: right;\">\n",
       "      <th></th>\n",
       "      <th>Temp</th>\n",
       "      <th>WindSpeed</th>\n",
       "      <th>Pressure</th>\n",
       "    </tr>\n",
       "    <tr>\n",
       "      <th>DateTime</th>\n",
       "      <th></th>\n",
       "      <th></th>\n",
       "      <th></th>\n",
       "    </tr>\n",
       "  </thead>\n",
       "  <tbody>\n",
       "    <tr>\n",
       "      <th>1980-03-01 11:00:00</th>\n",
       "      <td>2.000000</td>\n",
       "      <td>6.828571</td>\n",
       "      <td>1005.833333</td>\n",
       "    </tr>\n",
       "    <tr>\n",
       "      <th>1980-03-01 12:00:00</th>\n",
       "      <td>2.000000</td>\n",
       "      <td>8.200000</td>\n",
       "      <td>1005.200000</td>\n",
       "    </tr>\n",
       "    <tr>\n",
       "      <th>1980-03-01 13:00:00</th>\n",
       "      <td>0.166667</td>\n",
       "      <td>9.216667</td>\n",
       "      <td>1004.766667</td>\n",
       "    </tr>\n",
       "    <tr>\n",
       "      <th>1980-03-01 14:00:00</th>\n",
       "      <td>1.000000</td>\n",
       "      <td>11.885714</td>\n",
       "      <td>1004.333333</td>\n",
       "    </tr>\n",
       "    <tr>\n",
       "      <th>1980-03-01 15:00:00</th>\n",
       "      <td>1.000000</td>\n",
       "      <td>12.400000</td>\n",
       "      <td>1003.900000</td>\n",
       "    </tr>\n",
       "  </tbody>\n",
       "</table>\n",
       "</div>"
      ],
      "text/plain": [
       "                         Temp  WindSpeed     Pressure\n",
       "DateTime                                             \n",
       "1980-03-01 11:00:00  2.000000   6.828571  1005.833333\n",
       "1980-03-01 12:00:00  2.000000   8.200000  1005.200000\n",
       "1980-03-01 13:00:00  0.166667   9.216667  1004.766667\n",
       "1980-03-01 14:00:00  1.000000  11.885714  1004.333333\n",
       "1980-03-01 15:00:00  1.000000  12.400000  1003.900000"
      ]
     },
     "execution_count": 27,
     "metadata": {
      "tags": []
     },
     "output_type": "execute_result"
    }
   ],
   "source": [
    "df_targets.head(5)"
   ]
  },
  {
   "cell_type": "code",
   "execution_count": 0,
   "metadata": {
    "colab": {
     "base_uri": "https://localhost:8080/",
     "height": 225
    },
    "colab_type": "code",
    "executionInfo": {
     "elapsed": 133816,
     "status": "ok",
     "timestamp": 1574107587077,
     "user": {
      "displayName": "Yash Chandra verma",
      "photoUrl": "https://lh3.googleusercontent.com/a-/AAuE7mBBdKmttPchBCWwxFQ2pFyVxIOCfNm0nWPrBjtVGw=s64",
      "userId": "01320690721796493910"
     },
     "user_tz": -330
    },
    "id": "3JLUwuR3f6Y-",
    "outputId": "c15a5ef8-6570-41e8-8bc6-2a916940bc2c"
   },
   "outputs": [
    {
     "data": {
      "text/html": [
       "<div>\n",
       "<style scoped>\n",
       "    .dataframe tbody tr th:only-of-type {\n",
       "        vertical-align: middle;\n",
       "    }\n",
       "\n",
       "    .dataframe tbody tr th {\n",
       "        vertical-align: top;\n",
       "    }\n",
       "\n",
       "    .dataframe thead th {\n",
       "        text-align: right;\n",
       "    }\n",
       "</style>\n",
       "<table border=\"1\" class=\"dataframe\">\n",
       "  <thead>\n",
       "    <tr style=\"text-align: right;\">\n",
       "      <th></th>\n",
       "      <th>Temp</th>\n",
       "      <th>WindSpeed</th>\n",
       "      <th>Pressure</th>\n",
       "    </tr>\n",
       "    <tr>\n",
       "      <th>DateTime</th>\n",
       "      <th></th>\n",
       "      <th></th>\n",
       "      <th></th>\n",
       "    </tr>\n",
       "  </thead>\n",
       "  <tbody>\n",
       "    <tr>\n",
       "      <th>2018-03-01 19:00:00</th>\n",
       "      <td>NaN</td>\n",
       "      <td>NaN</td>\n",
       "      <td>NaN</td>\n",
       "    </tr>\n",
       "    <tr>\n",
       "      <th>2018-03-01 20:00:00</th>\n",
       "      <td>NaN</td>\n",
       "      <td>NaN</td>\n",
       "      <td>NaN</td>\n",
       "    </tr>\n",
       "    <tr>\n",
       "      <th>2018-03-01 21:00:00</th>\n",
       "      <td>NaN</td>\n",
       "      <td>NaN</td>\n",
       "      <td>NaN</td>\n",
       "    </tr>\n",
       "    <tr>\n",
       "      <th>2018-03-01 22:00:00</th>\n",
       "      <td>NaN</td>\n",
       "      <td>NaN</td>\n",
       "      <td>NaN</td>\n",
       "    </tr>\n",
       "    <tr>\n",
       "      <th>2018-03-01 23:00:00</th>\n",
       "      <td>NaN</td>\n",
       "      <td>NaN</td>\n",
       "      <td>NaN</td>\n",
       "    </tr>\n",
       "  </tbody>\n",
       "</table>\n",
       "</div>"
      ],
      "text/plain": [
       "                     Temp  WindSpeed  Pressure\n",
       "DateTime                                      \n",
       "2018-03-01 19:00:00   NaN        NaN       NaN\n",
       "2018-03-01 20:00:00   NaN        NaN       NaN\n",
       "2018-03-01 21:00:00   NaN        NaN       NaN\n",
       "2018-03-01 22:00:00   NaN        NaN       NaN\n",
       "2018-03-01 23:00:00   NaN        NaN       NaN"
      ]
     },
     "execution_count": 28,
     "metadata": {
      "tags": []
     },
     "output_type": "execute_result"
    }
   ],
   "source": [
    "df_targets.tail()"
   ]
  },
  {
   "cell_type": "code",
   "execution_count": 0,
   "metadata": {
    "colab": {},
    "colab_type": "code",
    "id": "UuT87-Nkf6ZD"
   },
   "outputs": [],
   "source": [
    "x_data = df.values[0:-shift_steps]"
   ]
  },
  {
   "cell_type": "code",
   "execution_count": 0,
   "metadata": {
    "colab": {
     "base_uri": "https://localhost:8080/",
     "height": 50
    },
    "colab_type": "code",
    "executionInfo": {
     "elapsed": 133792,
     "status": "ok",
     "timestamp": 1574107587079,
     "user": {
      "displayName": "Yash Chandra verma",
      "photoUrl": "https://lh3.googleusercontent.com/a-/AAuE7mBBdKmttPchBCWwxFQ2pFyVxIOCfNm0nWPrBjtVGw=s64",
      "userId": "01320690721796493910"
     },
     "user_tz": -330
    },
    "id": "uCymjDt4f6ZF",
    "outputId": "9a13fedc-a620-46db-c638-7609e5c2f028"
   },
   "outputs": [
    {
     "name": "stdout",
     "output_type": "stream",
     "text": [
      "<class 'numpy.ndarray'>\n",
      "Shape: (333085, 20)\n"
     ]
    }
   ],
   "source": [
    "print(type(x_data))\n",
    "print(\"Shape:\", x_data.shape)"
   ]
  },
  {
   "cell_type": "code",
   "execution_count": 0,
   "metadata": {
    "colab": {},
    "colab_type": "code",
    "id": "U5p6X-DYf6ZJ"
   },
   "outputs": [],
   "source": [
    "y_data = df_targets.values[:-shift_steps]"
   ]
  },
  {
   "cell_type": "code",
   "execution_count": 0,
   "metadata": {
    "colab": {
     "base_uri": "https://localhost:8080/",
     "height": 50
    },
    "colab_type": "code",
    "executionInfo": {
     "elapsed": 133771,
     "status": "ok",
     "timestamp": 1574107587081,
     "user": {
      "displayName": "Yash Chandra verma",
      "photoUrl": "https://lh3.googleusercontent.com/a-/AAuE7mBBdKmttPchBCWwxFQ2pFyVxIOCfNm0nWPrBjtVGw=s64",
      "userId": "01320690721796493910"
     },
     "user_tz": -330
    },
    "id": "nSDMWUmsf6ZO",
    "outputId": "ca3bc908-c828-4156-ed12-26f05827de6f",
    "scrolled": true
   },
   "outputs": [
    {
     "name": "stdout",
     "output_type": "stream",
     "text": [
      "<class 'numpy.ndarray'>\n",
      "Shape: (333085, 3)\n"
     ]
    }
   ],
   "source": [
    "print(type(y_data))\n",
    "print(\"Shape:\", y_data.shape)"
   ]
  },
  {
   "cell_type": "code",
   "execution_count": 0,
   "metadata": {
    "colab": {
     "base_uri": "https://localhost:8080/",
     "height": 34
    },
    "colab_type": "code",
    "executionInfo": {
     "elapsed": 133754,
     "status": "ok",
     "timestamp": 1574107587082,
     "user": {
      "displayName": "Yash Chandra verma",
      "photoUrl": "https://lh3.googleusercontent.com/a-/AAuE7mBBdKmttPchBCWwxFQ2pFyVxIOCfNm0nWPrBjtVGw=s64",
      "userId": "01320690721796493910"
     },
     "user_tz": -330
    },
    "id": "EokvxKqnf6ZT",
    "outputId": "52e40975-8a3a-46b8-ca77-e741a542fd88"
   },
   "outputs": [
    {
     "data": {
      "text/plain": [
       "333085"
      ]
     },
     "execution_count": 33,
     "metadata": {
      "tags": []
     },
     "output_type": "execute_result"
    }
   ],
   "source": [
    "num_data = len(x_data)\n",
    "num_data"
   ]
  },
  {
   "cell_type": "code",
   "execution_count": 0,
   "metadata": {
    "colab": {},
    "colab_type": "code",
    "id": "gbGu-v-Kf6ZX"
   },
   "outputs": [],
   "source": [
    "train_split = 0.9"
   ]
  },
  {
   "cell_type": "code",
   "execution_count": 0,
   "metadata": {
    "colab": {
     "base_uri": "https://localhost:8080/",
     "height": 34
    },
    "colab_type": "code",
    "executionInfo": {
     "elapsed": 133721,
     "status": "ok",
     "timestamp": 1574107587084,
     "user": {
      "displayName": "Yash Chandra verma",
      "photoUrl": "https://lh3.googleusercontent.com/a-/AAuE7mBBdKmttPchBCWwxFQ2pFyVxIOCfNm0nWPrBjtVGw=s64",
      "userId": "01320690721796493910"
     },
     "user_tz": -330
    },
    "id": "sBKv1HRqf6Z4",
    "outputId": "0136511e-0fe4-4929-85ce-4cac59da67df"
   },
   "outputs": [
    {
     "data": {
      "text/plain": [
       "299776"
      ]
     },
     "execution_count": 35,
     "metadata": {
      "tags": []
     },
     "output_type": "execute_result"
    }
   ],
   "source": [
    "num_train = int(train_split * num_data)\n",
    "num_train"
   ]
  },
  {
   "cell_type": "code",
   "execution_count": 0,
   "metadata": {
    "colab": {
     "base_uri": "https://localhost:8080/",
     "height": 34
    },
    "colab_type": "code",
    "executionInfo": {
     "elapsed": 133701,
     "status": "ok",
     "timestamp": 1574107587087,
     "user": {
      "displayName": "Yash Chandra verma",
      "photoUrl": "https://lh3.googleusercontent.com/a-/AAuE7mBBdKmttPchBCWwxFQ2pFyVxIOCfNm0nWPrBjtVGw=s64",
      "userId": "01320690721796493910"
     },
     "user_tz": -330
    },
    "id": "Ykbbl71Ef6aA",
    "outputId": "625b7bbc-88ff-4d8e-f325-3b909de5e8e1"
   },
   "outputs": [
    {
     "data": {
      "text/plain": [
       "33309"
      ]
     },
     "execution_count": 36,
     "metadata": {
      "tags": []
     },
     "output_type": "execute_result"
    }
   ],
   "source": [
    "num_test = num_data - num_train\n",
    "num_test"
   ]
  },
  {
   "cell_type": "code",
   "execution_count": 0,
   "metadata": {
    "colab": {
     "base_uri": "https://localhost:8080/",
     "height": 34
    },
    "colab_type": "code",
    "executionInfo": {
     "elapsed": 133680,
     "status": "ok",
     "timestamp": 1574107587088,
     "user": {
      "displayName": "Yash Chandra verma",
      "photoUrl": "https://lh3.googleusercontent.com/a-/AAuE7mBBdKmttPchBCWwxFQ2pFyVxIOCfNm0nWPrBjtVGw=s64",
      "userId": "01320690721796493910"
     },
     "user_tz": -330
    },
    "id": "GIjjlrOEf6aI",
    "outputId": "fb934ce3-b261-4c80-bdb0-318792fe5128"
   },
   "outputs": [
    {
     "data": {
      "text/plain": [
       "333085"
      ]
     },
     "execution_count": 37,
     "metadata": {
      "tags": []
     },
     "output_type": "execute_result"
    }
   ],
   "source": [
    "x_train = x_data[0:num_train]\n",
    "x_test = x_data[num_train:]\n",
    "len(x_train) + len(x_test)"
   ]
  },
  {
   "cell_type": "code",
   "execution_count": 0,
   "metadata": {
    "colab": {
     "base_uri": "https://localhost:8080/",
     "height": 34
    },
    "colab_type": "code",
    "executionInfo": {
     "elapsed": 133657,
     "status": "ok",
     "timestamp": 1574107587089,
     "user": {
      "displayName": "Yash Chandra verma",
      "photoUrl": "https://lh3.googleusercontent.com/a-/AAuE7mBBdKmttPchBCWwxFQ2pFyVxIOCfNm0nWPrBjtVGw=s64",
      "userId": "01320690721796493910"
     },
     "user_tz": -330
    },
    "id": "wKZfelpEf6aQ",
    "outputId": "82a61dbc-058f-4dbe-a270-2d6ce4af5ba8"
   },
   "outputs": [
    {
     "data": {
      "text/plain": [
       "333085"
      ]
     },
     "execution_count": 38,
     "metadata": {
      "tags": []
     },
     "output_type": "execute_result"
    }
   ],
   "source": [
    "y_train = y_data[0:num_train]\n",
    "y_test = y_data[num_train:]\n",
    "len(y_train) + len(y_test)"
   ]
  },
  {
   "cell_type": "code",
   "execution_count": 0,
   "metadata": {
    "colab": {
     "base_uri": "https://localhost:8080/",
     "height": 34
    },
    "colab_type": "code",
    "executionInfo": {
     "elapsed": 133629,
     "status": "ok",
     "timestamp": 1574107587090,
     "user": {
      "displayName": "Yash Chandra verma",
      "photoUrl": "https://lh3.googleusercontent.com/a-/AAuE7mBBdKmttPchBCWwxFQ2pFyVxIOCfNm0nWPrBjtVGw=s64",
      "userId": "01320690721796493910"
     },
     "user_tz": -330
    },
    "id": "V6ZYbllHf6aV",
    "outputId": "2bb0beb7-52ac-4738-8e87-0d7bc3436266"
   },
   "outputs": [
    {
     "data": {
      "text/plain": [
       "20"
      ]
     },
     "execution_count": 39,
     "metadata": {
      "tags": []
     },
     "output_type": "execute_result"
    }
   ],
   "source": [
    "num_x_signals = x_data.shape[1]\n",
    "num_x_signals"
   ]
  },
  {
   "cell_type": "code",
   "execution_count": 0,
   "metadata": {
    "colab": {
     "base_uri": "https://localhost:8080/",
     "height": 34
    },
    "colab_type": "code",
    "executionInfo": {
     "elapsed": 133580,
     "status": "ok",
     "timestamp": 1574107587091,
     "user": {
      "displayName": "Yash Chandra verma",
      "photoUrl": "https://lh3.googleusercontent.com/a-/AAuE7mBBdKmttPchBCWwxFQ2pFyVxIOCfNm0nWPrBjtVGw=s64",
      "userId": "01320690721796493910"
     },
     "user_tz": -330
    },
    "id": "jlmbKANNf6aa",
    "outputId": "dba86f2f-59e2-469e-b47f-4da5d0eb08e0",
    "scrolled": true
   },
   "outputs": [
    {
     "data": {
      "text/plain": [
       "3"
      ]
     },
     "execution_count": 40,
     "metadata": {
      "tags": []
     },
     "output_type": "execute_result"
    }
   ],
   "source": [
    "num_y_signals = y_data.shape[1]\n",
    "num_y_signals"
   ]
  },
  {
   "cell_type": "code",
   "execution_count": 0,
   "metadata": {
    "colab": {
     "base_uri": "https://localhost:8080/",
     "height": 50
    },
    "colab_type": "code",
    "executionInfo": {
     "elapsed": 133559,
     "status": "ok",
     "timestamp": 1574107587092,
     "user": {
      "displayName": "Yash Chandra verma",
      "photoUrl": "https://lh3.googleusercontent.com/a-/AAuE7mBBdKmttPchBCWwxFQ2pFyVxIOCfNm0nWPrBjtVGw=s64",
      "userId": "01320690721796493910"
     },
     "user_tz": -330
    },
    "id": "id9h3ILAf6ad",
    "outputId": "866ed1af-7e0d-4bda-a188-fc5079670c26"
   },
   "outputs": [
    {
     "name": "stdout",
     "output_type": "stream",
     "text": [
      "Min: -27.0\n",
      "Max: 1050.8\n"
     ]
    }
   ],
   "source": [
    "print(\"Min:\", np.min(x_train))\n",
    "print(\"Max:\", np.max(x_train))"
   ]
  },
  {
   "cell_type": "code",
   "execution_count": 0,
   "metadata": {
    "colab": {},
    "colab_type": "code",
    "id": "BTWQ5ILXf6aj"
   },
   "outputs": [],
   "source": [
    "x_scaler = MinMaxScaler()"
   ]
  },
  {
   "cell_type": "code",
   "execution_count": 0,
   "metadata": {
    "colab": {},
    "colab_type": "code",
    "id": "wSaxsMIhf6am"
   },
   "outputs": [],
   "source": [
    "x_train_scaled = x_scaler.fit_transform(x_train)"
   ]
  },
  {
   "cell_type": "code",
   "execution_count": 0,
   "metadata": {
    "colab": {
     "base_uri": "https://localhost:8080/",
     "height": 50
    },
    "colab_type": "code",
    "executionInfo": {
     "elapsed": 133518,
     "status": "ok",
     "timestamp": 1574107587095,
     "user": {
      "displayName": "Yash Chandra verma",
      "photoUrl": "https://lh3.googleusercontent.com/a-/AAuE7mBBdKmttPchBCWwxFQ2pFyVxIOCfNm0nWPrBjtVGw=s64",
      "userId": "01320690721796493910"
     },
     "user_tz": -330
    },
    "id": "aLs3hVMYf6as",
    "outputId": "73c04f30-bd27-4d1e-d275-b48ce12b7291"
   },
   "outputs": [
    {
     "name": "stdout",
     "output_type": "stream",
     "text": [
      "Min: 0.0\n",
      "Max: 1.0000000000000002\n"
     ]
    }
   ],
   "source": [
    "print(\"Min:\", np.min(x_train_scaled))\n",
    "print(\"Max:\", np.max(x_train_scaled))"
   ]
  },
  {
   "cell_type": "code",
   "execution_count": 0,
   "metadata": {
    "colab": {},
    "colab_type": "code",
    "id": "pU7navMbf6ay"
   },
   "outputs": [],
   "source": [
    "x_test_scaled = x_scaler.transform(x_test)"
   ]
  },
  {
   "cell_type": "code",
   "execution_count": 0,
   "metadata": {
    "colab": {},
    "colab_type": "code",
    "id": "p1kSqX7Af6a1"
   },
   "outputs": [],
   "source": [
    "y_scaler = MinMaxScaler()\n",
    "y_train_scaled = y_scaler.fit_transform(y_train)\n",
    "y_test_scaled = y_scaler.transform(y_test)"
   ]
  },
  {
   "cell_type": "code",
   "execution_count": 0,
   "metadata": {
    "colab": {
     "base_uri": "https://localhost:8080/",
     "height": 50
    },
    "colab_type": "code",
    "executionInfo": {
     "elapsed": 133461,
     "status": "ok",
     "timestamp": 1574107587098,
     "user": {
      "displayName": "Yash Chandra verma",
      "photoUrl": "https://lh3.googleusercontent.com/a-/AAuE7mBBdKmttPchBCWwxFQ2pFyVxIOCfNm0nWPrBjtVGw=s64",
      "userId": "01320690721796493910"
     },
     "user_tz": -330
    },
    "id": "rS-2tNMsf6a4",
    "outputId": "7a0f459b-4d8a-4fa6-ef7b-0f6681e8dfbb"
   },
   "outputs": [
    {
     "name": "stdout",
     "output_type": "stream",
     "text": [
      "(299776, 20)\n",
      "(299776, 3)\n"
     ]
    }
   ],
   "source": [
    "# Data Generator\n",
    "\n",
    "print(x_train_scaled.shape)\n",
    "print(y_train_scaled.shape)"
   ]
  },
  {
   "cell_type": "code",
   "execution_count": 0,
   "metadata": {
    "colab": {},
    "colab_type": "code",
    "id": "pqxHVIRcf6a8"
   },
   "outputs": [],
   "source": [
    "def batch_generator(batch_size, sequence_length):\n",
    "    \"\"\"\n",
    "    Generator function for creating random batches of training-data.\n",
    "    \"\"\"\n",
    "\n",
    "    # Infinite loop.\n",
    "    while True:\n",
    "        # Allocate a new array for the batch of input-signals.\n",
    "        x_shape = (batch_size, sequence_length, num_x_signals)\n",
    "        x_batch = np.zeros(shape=x_shape, dtype=np.float16)\n",
    "\n",
    "        # Allocate a new array for the batch of output-signals.\n",
    "        y_shape = (batch_size, sequence_length, num_y_signals)\n",
    "        y_batch = np.zeros(shape=y_shape, dtype=np.float16)\n",
    "\n",
    "        # Fill the batch with random sequences of data.\n",
    "        for i in range(batch_size):\n",
    "            # Get a random start-index.\n",
    "            # This points somewhere into the training-data.\n",
    "            idx = np.random.randint(num_train - sequence_length)\n",
    "            \n",
    "            # Copy the sequences of data starting at this index.\n",
    "            x_batch[i] = x_train_scaled[idx:idx+sequence_length]\n",
    "            y_batch[i] = y_train_scaled[idx:idx+sequence_length]\n",
    "        \n",
    "        yield (x_batch, y_batch)"
   ]
  },
  {
   "cell_type": "code",
   "execution_count": 0,
   "metadata": {
    "colab": {},
    "colab_type": "code",
    "id": "H7dUBY2df6bC"
   },
   "outputs": [],
   "source": [
    "batch_size = 180"
   ]
  },
  {
   "cell_type": "code",
   "execution_count": 0,
   "metadata": {
    "colab": {
     "base_uri": "https://localhost:8080/",
     "height": 34
    },
    "colab_type": "code",
    "executionInfo": {
     "elapsed": 133414,
     "status": "ok",
     "timestamp": 1574107587101,
     "user": {
      "displayName": "Yash Chandra verma",
      "photoUrl": "https://lh3.googleusercontent.com/a-/AAuE7mBBdKmttPchBCWwxFQ2pFyVxIOCfNm0nWPrBjtVGw=s64",
      "userId": "01320690721796493910"
     },
     "user_tz": -330
    },
    "id": "Sv_muhPvf6bG",
    "outputId": "135af017-26a3-4a0e-84de-c39400aa7aff"
   },
   "outputs": [
    {
     "data": {
      "text/plain": [
       "1344"
      ]
     },
     "execution_count": 50,
     "metadata": {
      "tags": []
     },
     "output_type": "execute_result"
    }
   ],
   "source": [
    "sequence_length = 24 * 7 * 8\n",
    "sequence_length"
   ]
  },
  {
   "cell_type": "code",
   "execution_count": 0,
   "metadata": {
    "colab": {},
    "colab_type": "code",
    "id": "vyPYBa2rf6bX"
   },
   "outputs": [],
   "source": [
    "generator = batch_generator(batch_size=batch_size,\n",
    "                            sequence_length=sequence_length)"
   ]
  },
  {
   "cell_type": "code",
   "execution_count": 0,
   "metadata": {
    "colab": {},
    "colab_type": "code",
    "id": "YDTRAN7Xf6bc"
   },
   "outputs": [],
   "source": [
    "x_batch, y_batch = next(generator)"
   ]
  },
  {
   "cell_type": "code",
   "execution_count": 0,
   "metadata": {
    "colab": {
     "base_uri": "https://localhost:8080/",
     "height": 50
    },
    "colab_type": "code",
    "executionInfo": {
     "elapsed": 133373,
     "status": "ok",
     "timestamp": 1574107587105,
     "user": {
      "displayName": "Yash Chandra verma",
      "photoUrl": "https://lh3.googleusercontent.com/a-/AAuE7mBBdKmttPchBCWwxFQ2pFyVxIOCfNm0nWPrBjtVGw=s64",
      "userId": "01320690721796493910"
     },
     "user_tz": -330
    },
    "id": "cahYCI0xf6bo",
    "outputId": "89cd798e-67c1-463c-fd2a-0752694dce3e"
   },
   "outputs": [
    {
     "name": "stdout",
     "output_type": "stream",
     "text": [
      "(180, 1344, 20)\n",
      "(180, 1344, 3)\n"
     ]
    }
   ],
   "source": [
    "print(x_batch.shape)\n",
    "print(y_batch.shape)"
   ]
  },
  {
   "cell_type": "code",
   "execution_count": 0,
   "metadata": {
    "colab": {
     "base_uri": "https://localhost:8080/",
     "height": 282
    },
    "colab_type": "code",
    "executionInfo": {
     "elapsed": 133352,
     "status": "ok",
     "timestamp": 1574107587106,
     "user": {
      "displayName": "Yash Chandra verma",
      "photoUrl": "https://lh3.googleusercontent.com/a-/AAuE7mBBdKmttPchBCWwxFQ2pFyVxIOCfNm0nWPrBjtVGw=s64",
      "userId": "01320690721796493910"
     },
     "user_tz": -330
    },
    "id": "QEzL3UhIf6bs",
    "outputId": "a46b253e-0fe7-4920-83e8-bea677058ea1"
   },
   "outputs": [
    {
     "data": {
      "text/plain": [
       "[<matplotlib.lines.Line2D at 0x7f6ec643bcf8>]"
      ]
     },
     "execution_count": 54,
     "metadata": {
      "tags": []
     },
     "output_type": "execute_result"
    },
    {
     "data": {
      "image/png": "[encoded data removed]",
      "text/plain": [
       "<Figure size 432x288 with 1 Axes>"
      ]
     },
     "metadata": {
      "tags": []
     },
     "output_type": "display_data"
    }
   ],
   "source": [
    "batch = 0   # First sequence in the batch.\n",
    "signal = 0  # First signal from the 20 input-signals.\n",
    "seq = x_batch[batch, :, signal]\n",
    "plt.plot(seq)"
   ]
  },
  {
   "cell_type": "code",
   "execution_count": 0,
   "metadata": {
    "colab": {
     "base_uri": "https://localhost:8080/",
     "height": 282
    },
    "colab_type": "code",
    "executionInfo": {
     "elapsed": 133329,
     "status": "ok",
     "timestamp": 1574107587107,
     "user": {
      "displayName": "Yash Chandra verma",
      "photoUrl": "https://lh3.googleusercontent.com/a-/AAuE7mBBdKmttPchBCWwxFQ2pFyVxIOCfNm0nWPrBjtVGw=s64",
      "userId": "01320690721796493910"
     },
     "user_tz": -330
    },
    "id": "fcAMi-EKf6by",
    "outputId": "e3af2a15-2249-4168-e3b2-eae580fda5ab"
   },
   "outputs": [
    {
     "data": {
      "text/plain": [
       "[<matplotlib.lines.Line2D at 0x7f6ec63ae278>]"
      ]
     },
     "execution_count": 55,
     "metadata": {
      "tags": []
     },
     "output_type": "execute_result"
    },
    {
     "data": {
      "image/png": "[encoded data removed]",
      "text/plain": [
       "<Figure size 432x288 with 1 Axes>"
      ]
     },
     "metadata": {
      "tags": []
     },
     "output_type": "display_data"
    }
   ],
   "source": [
    "seq = y_batch[batch, :, signal]\n",
    "plt.plot(seq)"
   ]
  },
  {
   "cell_type": "code",
   "execution_count": 0,
   "metadata": {
    "colab": {},
    "colab_type": "code",
    "id": "mgZALsDYf6b3"
   },
   "outputs": [],
   "source": [
    "# Validation Set\n",
    "validation_data = (np.expand_dims(x_test_scaled, axis=0),\n",
    "                   np.expand_dims(y_test_scaled, axis=0))"
   ]
  },
  {
   "cell_type": "code",
   "execution_count": 0,
   "metadata": {
    "colab": {},
    "colab_type": "code",
    "id": "IY_4T7sEf6b6"
   },
   "outputs": [],
   "source": [
    "# Create the Recurrent Neural Network\n",
    "\n",
    "model = Sequential()"
   ]
  },
  {
   "cell_type": "code",
   "execution_count": 0,
   "metadata": {
    "colab": {
     "base_uri": "https://localhost:8080/",
     "height": 87
    },
    "colab_type": "code",
    "executionInfo": {
     "elapsed": 133281,
     "status": "ok",
     "timestamp": 1574107587110,
     "user": {
      "displayName": "Yash Chandra verma",
      "photoUrl": "https://lh3.googleusercontent.com/a-/AAuE7mBBdKmttPchBCWwxFQ2pFyVxIOCfNm0nWPrBjtVGw=s64",
      "userId": "01320690721796493910"
     },
     "user_tz": -330
    },
    "id": "WngZAJf2f6b9",
    "outputId": "566114ce-2bbe-4130-c497-6f46b726ad46"
   },
   "outputs": [
    {
     "name": "stdout",
     "output_type": "stream",
     "text": [
      "WARNING:tensorflow:From /usr/local/lib/python3.6/dist-packages/tensorflow_core/python/ops/resource_variable_ops.py:1630: calling BaseResourceVariable.__init__ (from tensorflow.python.ops.resource_variable_ops) with constraint is deprecated and will be removed in a future version.\n",
      "Instructions for updating:\n",
      "If using Keras pass *_constraint arguments to layers.\n"
     ]
    }
   ],
   "source": [
    "model.add(LSTM(units=512,\n",
    "              return_sequences=True,\n",
    "              input_shape=(None, num_x_signals,)))"
   ]
  },
  {
   "cell_type": "code",
   "execution_count": 0,
   "metadata": {
    "colab": {},
    "colab_type": "code",
    "id": "33WJXqILf6cA"
   },
   "outputs": [],
   "source": [
    "model.add(Dense(num_y_signals, activation='sigmoid'))"
   ]
  },
  {
   "cell_type": "code",
   "execution_count": 0,
   "metadata": {
    "colab": {},
    "colab_type": "code",
    "id": "W9uFdF4vf6cL"
   },
   "outputs": [],
   "source": [
    "warmup_steps = 50"
   ]
  },
  {
   "cell_type": "code",
   "execution_count": 0,
   "metadata": {
    "colab": {},
    "colab_type": "code",
    "id": "ThbUq12Xf6cQ"
   },
   "outputs": [],
   "source": [
    "def loss_mse_warmup(y_true, y_pred):\n",
    "\n",
    "    y_true_slice = y_true[:, warmup_steps:, :]\n",
    "    y_pred_slice = y_pred[:, warmup_steps:, :]\n",
    "    loss = tf.losses.mean_squared_error(labels=y_true_slice,\n",
    "                                        predictions=y_pred_slice)\n",
    "\n",
    "    loss_mean = tf.reduce_mean(loss)\n",
    "\n",
    "    return loss_mean"
   ]
  },
  {
   "cell_type": "code",
   "execution_count": 0,
   "metadata": {
    "colab": {},
    "colab_type": "code",
    "id": "vixw7bQpf6cV"
   },
   "outputs": [],
   "source": [
    "optimizer = RMSprop(lr=1e-3)"
   ]
  },
  {
   "cell_type": "code",
   "execution_count": 0,
   "metadata": {
    "colab": {
     "base_uri": "https://localhost:8080/",
     "height": 87
    },
    "colab_type": "code",
    "executionInfo": {
     "elapsed": 133228,
     "status": "ok",
     "timestamp": 1574107587116,
     "user": {
      "displayName": "Yash Chandra verma",
      "photoUrl": "https://lh3.googleusercontent.com/a-/AAuE7mBBdKmttPchBCWwxFQ2pFyVxIOCfNm0nWPrBjtVGw=s64",
      "userId": "01320690721796493910"
     },
     "user_tz": -330
    },
    "id": "RAjRRfm7f6cd",
    "outputId": "3dfbc76c-d7c2-4e1c-be23-c2ffef6fb8f5"
   },
   "outputs": [
    {
     "name": "stdout",
     "output_type": "stream",
     "text": [
      "WARNING:tensorflow:From /usr/local/lib/python3.6/dist-packages/tensorflow_core/python/ops/losses/losses_impl.py:121: where (from tensorflow.python.ops.array_ops) is deprecated and will be removed in a future version.\n",
      "Instructions for updating:\n",
      "Use tf.where in 2.0, which has the same broadcast rule as np.where\n"
     ]
    }
   ],
   "source": [
    "model.compile(loss=loss_mse_warmup, optimizer=optimizer)"
   ]
  },
  {
   "cell_type": "code",
   "execution_count": 0,
   "metadata": {
    "colab": {
     "base_uri": "https://localhost:8080/",
     "height": 218
    },
    "colab_type": "code",
    "executionInfo": {
     "elapsed": 133191,
     "status": "ok",
     "timestamp": 1574107587118,
     "user": {
      "displayName": "Yash Chandra verma",
      "photoUrl": "https://lh3.googleusercontent.com/a-/AAuE7mBBdKmttPchBCWwxFQ2pFyVxIOCfNm0nWPrBjtVGw=s64",
      "userId": "01320690721796493910"
     },
     "user_tz": -330
    },
    "id": "oRheFnn4f6cf",
    "outputId": "a301dd27-6a3b-4de1-c6a0-b7c807b09f94"
   },
   "outputs": [
    {
     "name": "stdout",
     "output_type": "stream",
     "text": [
      "Model: \"sequential\"\n",
      "_________________________________________________________________\n",
      "Layer (type)                 Output Shape              Param #   \n",
      "=================================================================\n",
      "lstm (LSTM)                  (None, None, 512)         1091584   \n",
      "_________________________________________________________________\n",
      "dense (Dense)                (None, None, 3)           1539      \n",
      "=================================================================\n",
      "Total params: 1,093,123\n",
      "Trainable params: 1,093,123\n",
      "Non-trainable params: 0\n",
      "_________________________________________________________________\n"
     ]
    }
   ],
   "source": [
    "model.summary()"
   ]
  },
  {
   "cell_type": "code",
   "execution_count": 0,
   "metadata": {
    "colab": {},
    "colab_type": "code",
    "id": "aOIBayf9f6ci"
   },
   "outputs": [],
   "source": [
    "path_checkpoint = '23_checkpoint.keras'\n",
    "callback_checkpoint = ModelCheckpoint(filepath=path_checkpoint,\n",
    "                                      monitor='val_loss',\n",
    "                                      verbose=1,\n",
    "                                      save_weights_only=True,\n",
    "                                      save_best_only=True)"
   ]
  },
  {
   "cell_type": "code",
   "execution_count": 0,
   "metadata": {
    "colab": {},
    "colab_type": "code",
    "id": "Z-feZ_Bef6cm"
   },
   "outputs": [],
   "source": [
    "callback_early_stopping = EarlyStopping(monitor='val_loss',\n",
    "                                        patience=5, verbose=1)"
   ]
  },
  {
   "cell_type": "code",
   "execution_count": 0,
   "metadata": {
    "colab": {},
    "colab_type": "code",
    "id": "8Ot4CFn7f6cp"
   },
   "outputs": [],
   "source": [
    "callback_tensorboard = TensorBoard(log_dir='./23_logs/',\n",
    "                                   histogram_freq=0,\n",
    "                                   write_graph=False)"
   ]
  },
  {
   "cell_type": "code",
   "execution_count": 0,
   "metadata": {
    "colab": {},
    "colab_type": "code",
    "id": "dNg0G3Saf6cr"
   },
   "outputs": [],
   "source": [
    "callback_reduce_lr = ReduceLROnPlateau(monitor='val_loss',\n",
    "                                       factor=0.1,\n",
    "                                       min_lr=1e-4,\n",
    "                                       patience=0,\n",
    "                                       verbose=1)"
   ]
  },
  {
   "cell_type": "code",
   "execution_count": 0,
   "metadata": {
    "colab": {},
    "colab_type": "code",
    "id": "wFwa5JYif6ct"
   },
   "outputs": [],
   "source": [
    "callbacks = [callback_early_stopping,\n",
    "             callback_checkpoint,\n",
    "             callback_tensorboard,\n",
    "             callback_reduce_lr]"
   ]
  },
  {
   "cell_type": "code",
   "execution_count": 0,
   "metadata": {
    "colab": {
     "base_uri": "https://localhost:8080/",
     "height": 1000
    },
    "colab_type": "code",
    "executionInfo": {
     "elapsed": 414514,
     "status": "ok",
     "timestamp": 1574111783491,
     "user": {
      "displayName": "Yash Chandra verma",
      "photoUrl": "https://lh3.googleusercontent.com/a-/AAuE7mBBdKmttPchBCWwxFQ2pFyVxIOCfNm0nWPrBjtVGw=s64",
      "userId": "01320690721796493910"
     },
     "user_tz": -330
    },
    "id": "s8nLoYQif6dB",
    "outputId": "ede9525f-5862-4456-dc16-ac92215f73f9"
   },
   "outputs": [
    {
     "name": "stdout",
     "output_type": "stream",
     "text": [
      "Epoch 1/20\n",
      " 99/100 [============================>.] - ETA: 2s - loss: 0.0098Epoch 1/20\n",
      "  1/100 [..............................] - ETA: 13:47 - loss: 0.0072\n",
      "Epoch 00001: val_loss improved from inf to 0.00722, saving model to 23_checkpoint.keras\n",
      "100/100 [==============================] - 219s 2s/step - loss: 0.0098 - val_loss: 0.0072\n",
      "Epoch 2/20\n",
      " 99/100 [============================>.] - ETA: 2s - loss: 0.0056Epoch 1/20\n",
      "  1/100 [..............................] - ETA: 13:39 - loss: 0.0037\n",
      "Epoch 00002: val_loss improved from 0.00722 to 0.00375, saving model to 23_checkpoint.keras\n",
      "100/100 [==============================] - 210s 2s/step - loss: 0.0056 - val_loss: 0.0037\n",
      "Epoch 3/20\n",
      " 99/100 [============================>.] - ETA: 2s - loss: 0.0044Epoch 1/20\n",
      "  1/100 [..............................] - ETA: 13:45 - loss: 0.0038\n",
      "Epoch 00003: val_loss did not improve from 0.00375\n",
      "\n",
      "Epoch 00003: ReduceLROnPlateau reducing learning rate to 0.00010000000474974513.\n",
      "100/100 [==============================] - 211s 2s/step - loss: 0.0044 - val_loss: 0.0038\n",
      "Epoch 4/20\n",
      " 99/100 [============================>.] - ETA: 2s - loss: 0.0030Epoch 1/20\n",
      "  1/100 [..............................] - ETA: 13:33 - loss: 0.0025\n",
      "Epoch 00004: val_loss improved from 0.00375 to 0.00253, saving model to 23_checkpoint.keras\n",
      "100/100 [==============================] - 211s 2s/step - loss: 0.0030 - val_loss: 0.0025\n",
      "Epoch 5/20\n",
      " 99/100 [============================>.] - ETA: 2s - loss: 0.0028Epoch 1/20\n",
      "  1/100 [..............................] - ETA: 13:36 - loss: 0.0025\n",
      "Epoch 00005: val_loss improved from 0.00253 to 0.00245, saving model to 23_checkpoint.keras\n",
      "\n",
      "Epoch 00005: ReduceLROnPlateau reducing learning rate to 0.0001.\n",
      "100/100 [==============================] - 209s 2s/step - loss: 0.0028 - val_loss: 0.0025\n",
      "Epoch 6/20\n",
      " 99/100 [============================>.] - ETA: 2s - loss: 0.0028Epoch 1/20\n",
      "  1/100 [..............................] - ETA: 13:50 - loss: 0.0025\n",
      "Epoch 00006: val_loss did not improve from 0.00245\n",
      "100/100 [==============================] - 211s 2s/step - loss: 0.0028 - val_loss: 0.0025\n",
      "Epoch 7/20\n",
      " 99/100 [============================>.] - ETA: 2s - loss: 0.0027Epoch 1/20\n",
      "  1/100 [..............................] - ETA: 13:24 - loss: 0.0024\n",
      "Epoch 00007: val_loss improved from 0.00245 to 0.00240, saving model to 23_checkpoint.keras\n",
      "100/100 [==============================] - 211s 2s/step - loss: 0.0027 - val_loss: 0.0024\n",
      "Epoch 8/20\n",
      " 99/100 [============================>.] - ETA: 2s - loss: 0.0027Epoch 1/20\n",
      "  1/100 [..............................] - ETA: 13:38 - loss: 0.0024\n",
      "Epoch 00008: val_loss improved from 0.00240 to 0.00239, saving model to 23_checkpoint.keras\n",
      "100/100 [==============================] - 210s 2s/step - loss: 0.0027 - val_loss: 0.0024\n",
      "Epoch 9/20\n",
      " 99/100 [============================>.] - ETA: 2s - loss: 0.0026Epoch 1/20\n",
      "  1/100 [..............................] - ETA: 13:53 - loss: 0.0024\n",
      "Epoch 00009: val_loss improved from 0.00239 to 0.00235, saving model to 23_checkpoint.keras\n",
      "100/100 [==============================] - 210s 2s/step - loss: 0.0026 - val_loss: 0.0024\n",
      "Epoch 10/20\n",
      " 99/100 [============================>.] - ETA: 2s - loss: 0.0026Epoch 1/20\n",
      "  1/100 [..............................] - ETA: 13:35 - loss: 0.0023\n",
      "Epoch 00010: val_loss improved from 0.00235 to 0.00233, saving model to 23_checkpoint.keras\n",
      "100/100 [==============================] - 211s 2s/step - loss: 0.0026 - val_loss: 0.0023\n",
      "Epoch 11/20\n",
      " 99/100 [============================>.] - ETA: 2s - loss: 0.0026Epoch 1/20\n",
      "  1/100 [..............................] - ETA: 13:49 - loss: 0.0023\n",
      "Epoch 00011: val_loss improved from 0.00233 to 0.00231, saving model to 23_checkpoint.keras\n",
      "100/100 [==============================] - 211s 2s/step - loss: 0.0026 - val_loss: 0.0023\n",
      "Epoch 12/20\n",
      " 99/100 [============================>.] - ETA: 2s - loss: 0.0025Epoch 1/20\n",
      "  1/100 [..............................] - ETA: 13:50 - loss: 0.0023\n",
      "Epoch 00012: val_loss improved from 0.00231 to 0.00228, saving model to 23_checkpoint.keras\n",
      "100/100 [==============================] - 211s 2s/step - loss: 0.0025 - val_loss: 0.0023\n",
      "Epoch 13/20\n",
      " 99/100 [============================>.] - ETA: 2s - loss: 0.0025Epoch 1/20\n",
      "  1/100 [..............................] - ETA: 13:36 - loss: 0.0023\n",
      "Epoch 00013: val_loss did not improve from 0.00228\n",
      "100/100 [==============================] - 210s 2s/step - loss: 0.0025 - val_loss: 0.0023\n",
      "Epoch 14/20\n",
      " 99/100 [============================>.] - ETA: 2s - loss: 0.0025Epoch 1/20\n",
      "  1/100 [..............................] - ETA: 13:37 - loss: 0.0023\n",
      "Epoch 00014: val_loss improved from 0.00228 to 0.00228, saving model to 23_checkpoint.keras\n",
      "100/100 [==============================] - 210s 2s/step - loss: 0.0025 - val_loss: 0.0023\n",
      "Epoch 15/20\n",
      " 99/100 [============================>.] - ETA: 2s - loss: 0.0025Epoch 1/20\n",
      "  1/100 [..............................] - ETA: 13:50 - loss: 0.0024\n",
      "Epoch 00015: val_loss did not improve from 0.00228\n",
      "100/100 [==============================] - 212s 2s/step - loss: 0.0025 - val_loss: 0.0024\n",
      "Epoch 16/20\n",
      " 99/100 [============================>.] - ETA: 2s - loss: 0.0025Epoch 1/20\n",
      "  1/100 [..............................] - ETA: 13:26 - loss: 0.0023\n",
      "Epoch 00016: val_loss did not improve from 0.00228\n",
      "100/100 [==============================] - 211s 2s/step - loss: 0.0025 - val_loss: 0.0023\n",
      "Epoch 17/20\n",
      " 99/100 [============================>.] - ETA: 1s - loss: 0.0024Epoch 1/20\n",
      "  1/100 [..............................] - ETA: 13:25 - loss: 0.0023\n",
      "Epoch 00017: val_loss did not improve from 0.00228\n",
      "100/100 [==============================] - 208s 2s/step - loss: 0.0024 - val_loss: 0.0023\n",
      "Epoch 18/20\n",
      " 99/100 [============================>.] - ETA: 1s - loss: 0.0024Epoch 1/20\n",
      "  1/100 [..............................] - ETA: 13:18 - loss: 0.0023\n",
      "Epoch 00018: val_loss improved from 0.00228 to 0.00228, saving model to 23_checkpoint.keras\n",
      "100/100 [==============================] - 204s 2s/step - loss: 0.0024 - val_loss: 0.0023\n",
      "Epoch 19/20\n",
      " 99/100 [============================>.] - ETA: 1s - loss: 0.0024Epoch 1/20\n",
      "  1/100 [..............................] - ETA: 13:03 - loss: 0.0023\n",
      "Epoch 00019: val_loss improved from 0.00228 to 0.00227, saving model to 23_checkpoint.keras\n",
      "100/100 [==============================] - 204s 2s/step - loss: 0.0024 - val_loss: 0.0023\n",
      "Epoch 20/20\n",
      " 99/100 [============================>.] - ETA: 1s - loss: 0.0024Epoch 1/20\n",
      "  1/100 [..............................] - ETA: 13:24 - loss: 0.0023\n",
      "Epoch 00020: val_loss did not improve from 0.00227\n",
      "100/100 [==============================] - 203s 2s/step - loss: 0.0024 - val_loss: 0.0023\n",
      "CPU times: user 1h 52min 29s, sys: 16min 29s, total: 2h 8min 59s\n",
      "Wall time: 1h 9min 56s\n"
     ]
    },
    {
     "data": {
      "text/plain": [
       "<tensorflow.python.keras.callbacks.History at 0x7f6ec59c5a58>"
      ]
     },
     "execution_count": 70,
     "metadata": {
      "tags": []
     },
     "output_type": "execute_result"
    }
   ],
   "source": [
    "%%time\n",
    "model.fit_generator(generator=generator,\n",
    "                    epochs=20,\n",
    "                    steps_per_epoch=100,          \n",
    "                                      \n",
    "                 \n",
    "                    validation_data=validation_data,\n",
    "                    callbacks=callbacks)"
   ]
  },
  {
   "cell_type": "code",
   "execution_count": 0,
   "metadata": {
    "colab": {},
    "colab_type": "code",
    "id": "ubhUjKvJf6dT"
   },
   "outputs": [],
   "source": [
    "try:\n",
    "    model.load_weights(path_checkpoint)\n",
    "except Exception as error:\n",
    "    print(\"Error trying to load checkpoint.\")\n",
    "    print(error)"
   ]
  },
  {
   "cell_type": "code",
   "execution_count": 0,
   "metadata": {
    "colab": {
     "base_uri": "https://localhost:8080/",
     "height": 34
    },
    "colab_type": "code",
    "executionInfo": {
     "elapsed": 9834,
     "status": "ok",
     "timestamp": 1574111793317,
     "user": {
      "displayName": "Yash Chandra verma",
      "photoUrl": "https://lh3.googleusercontent.com/a-/AAuE7mBBdKmttPchBCWwxFQ2pFyVxIOCfNm0nWPrBjtVGw=s64",
      "userId": "01320690721796493910"
     },
     "user_tz": -330
    },
    "id": "A1JwumI8f6dy",
    "outputId": "4ed1879c-9f04-46cc-c774-ffb5dc88c52d"
   },
   "outputs": [
    {
     "name": "stdout",
     "output_type": "stream",
     "text": [
      "\r",
      "1/1 [==============================] - 8s 8s/sample - loss: 0.0023\n"
     ]
    }
   ],
   "source": [
    "result = model.evaluate(x=np.expand_dims(x_test_scaled, axis=0),\n",
    "                        y=np.expand_dims(y_test_scaled, axis=0))"
   ]
  },
  {
   "cell_type": "code",
   "execution_count": 0,
   "metadata": {
    "colab": {
     "base_uri": "https://localhost:8080/",
     "height": 34
    },
    "colab_type": "code",
    "executionInfo": {
     "elapsed": 37,
     "status": "ok",
     "timestamp": 1574111793318,
     "user": {
      "displayName": "Yash Chandra verma",
      "photoUrl": "https://lh3.googleusercontent.com/a-/AAuE7mBBdKmttPchBCWwxFQ2pFyVxIOCfNm0nWPrBjtVGw=s64",
      "userId": "01320690721796493910"
     },
     "user_tz": -330
    },
    "id": "t2JKsFgOf6d4",
    "outputId": "78e47eb0-9593-427b-f79b-fb9c9b5fa0a9"
   },
   "outputs": [
    {
     "name": "stdout",
     "output_type": "stream",
     "text": [
      "loss (test-set): 0.0022675669752061367\n"
     ]
    }
   ],
   "source": [
    "print(\"loss (test-set):\", result)"
   ]
  },
  {
   "cell_type": "code",
   "execution_count": 0,
   "metadata": {
    "colab": {},
    "colab_type": "code",
    "id": "N1AgVfgtf6d-"
   },
   "outputs": [],
   "source": [
    "def plot_comparison(start_idx, length=100, train=True):\n",
    "    \n",
    "    if train:\n",
    "        # Use training-data.\n",
    "        x = x_train_scaled\n",
    "        y_true = y_train\n",
    "    else:\n",
    "        # Use test-data.\n",
    "        x = x_test_scaled\n",
    "        y_true = y_test\n",
    "    \n",
    "    # End-index for the sequences.\n",
    "    end_idx = start_idx + length\n",
    "    \n",
    "    # Select the sequences from the given start-index and\n",
    "    # of the given length.\n",
    "    x = x[start_idx:end_idx]\n",
    "    y_true = y_true[start_idx:end_idx]\n",
    "    \n",
    "    # Input-signals for the model.\n",
    "    x = np.expand_dims(x, axis=0)\n",
    "\n",
    "    # Use the model to predict the output-signals.\n",
    "    y_pred = model.predict(x)\n",
    "    \n",
    "    y_pred_rescaled = y_scaler.inverse_transform(y_pred[0])\n",
    "    \n",
    "    # For each output-signal.\n",
    "    for signal in range(len(target_names)):\n",
    "        # Get the output-signal predicted by the model.\n",
    "        signal_pred = y_pred_rescaled[:, signal]\n",
    "        \n",
    "        # Get the true output-signal from the data-set.\n",
    "        signal_true = y_true[:, signal]\n",
    "\n",
    "        # Make the plotting-canvas bigger.\n",
    "        plt.figure(figsize=(15,5))\n",
    "        \n",
    "        # Plot and compare the two signals.\n",
    "        plt.plot(signal_true, label='true')\n",
    "        plt.plot(signal_pred, label='pred')\n",
    "        \n",
    "        # Plot grey box for warmup-period.\n",
    "        p = plt.axvspan(0, warmup_steps, facecolor='black', alpha=0.15)\n",
    "        \n",
    "        # Plot labels etc.\n",
    "        plt.ylabel(target_names[signal])\n",
    "        plt.legend()\n",
    "        plt.show()"
   ]
  },
  {
   "cell_type": "code",
   "execution_count": 0,
   "metadata": {
    "colab": {
     "base_uri": "https://localhost:8080/",
     "height": 926
    },
    "colab_type": "code",
    "executionInfo": {
     "elapsed": 5572,
     "status": "ok",
     "timestamp": 1574111798880,
     "user": {
      "displayName": "Yash Chandra verma",
      "photoUrl": "https://lh3.googleusercontent.com/a-/AAuE7mBBdKmttPchBCWwxFQ2pFyVxIOCfNm0nWPrBjtVGw=s64",
      "userId": "01320690721796493910"
     },
     "user_tz": -330
    },
    "id": "HTjcw2A9f6eD",
    "outputId": "aec02d37-3e78-4aeb-d51b-da2ef0931bf2",
    "scrolled": true
   },
   "outputs": [
    {
     "data": {
      "image/png": "[encoded data removed]",
      "text/plain": [
       "<Figure size 1080x360 with 1 Axes>"
      ]
     },
     "metadata": {
      "tags": []
     },
     "output_type": "display_data"
    },
    {
     "data": {
      "image/png": "[encoded data removed]",
      "text/plain": [
       "<Figure size 1080x360 with 1 Axes>"
      ]
     },
     "metadata": {
      "tags": []
     },
     "output_type": "display_data"
    },
    {
     "data": {
      "image/png": "[encoded data removed]",
      "text/plain": [
       "<Figure size 1080x360 with 1 Axes>"
      ]
     },
     "metadata": {
      "tags": []
     },
     "output_type": "display_data"
    }
   ],
   "source": [
    "plot_comparison(start_idx=100000, length=1000, train=True)"
   ]
  },
  {
   "cell_type": "code",
   "execution_count": null,
   "metadata": {},
   "outputs": [],
   "source": []
  }
 ],
 "metadata": {
  "accelerator": "GPU",
  "anaconda-cloud": {},
  "colab": {
   "collapsed_sections": [],
   "machine_shape": "hm",
   "name": "weather.ipynb",
   "provenance": []
  },
  "kernelspec": {
   "display_name": "Python 3",
   "language": "python",
   "name": "python3"
  },
  "language_info": {
   "codemirror_mode": {
    "name": "ipython",
    "version": 3
   },
   "file_extension": ".py",
   "mimetype": "text/x-python",
   "name": "python",
   "nbconvert_exporter": "python",
   "pygments_lexer": "ipython3",
   "version": "3.5.5"
  }
 },
 "nbformat": 4,
 "nbformat_minor": 1
}
